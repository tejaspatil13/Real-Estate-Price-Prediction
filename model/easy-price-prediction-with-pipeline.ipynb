{
 "cells": [
  {
   "cell_type": "markdown",
   "id": "7fd5cd81",
   "metadata": {
    "id": "q1EintgmMWwX",
    "papermill": {
     "duration": 0.027049,
     "end_time": "2024-03-04T16:50:40.350941",
     "exception": false,
     "start_time": "2024-03-04T16:50:40.323892",
     "status": "completed"
    },
    "tags": []
   },
   "source": [
    "## **Bangalore House Price prediction :**\n",
    "* What are the things that a potential home buyer considers before purchasing a house? The location, the size of the property, vicinity to offices, schools, parks, restaurants, hospitals or the stereotypical white picket fence? What about the most important factor — the price?\n",
    "\n",
    "* Buying a home, especially in a city like Bengaluru, is a tricky choice. While the major factors are usually the same for all metros, there are others to be considered for the Silicon Valley of India. With its help millennial crowd, vibrant culture, great climate and a slew of job opportunities, it is difficult to ascertain the price of a house in Bengaluru."
   ]
  },
  {
   "cell_type": "markdown",
   "id": "52e8d922",
   "metadata": {
    "id": "waz9K5kJRriP",
    "papermill": {
     "duration": 0.026667,
     "end_time": "2024-03-04T16:50:40.405091",
     "exception": false,
     "start_time": "2024-03-04T16:50:40.378424",
     "status": "completed"
    },
    "tags": []
   },
   "source": [
    "## Lifecycle of the project :\n",
    "1. Data and Library Import\n",
    "2. Data Understanding and Cleaning\n",
    "3. Data Visualization and some insights\n",
    "\n",
    "4. Train-Test split and Model Building\n",
    "5. Tuning and Model Finalization\n",
    "6. Conclusion\n"
   ]
  },
  {
   "cell_type": "markdown",
   "id": "355297da",
   "metadata": {
    "id": "G6HoLY29Snea",
    "papermill": {
     "duration": 0.025688,
     "end_time": "2024-03-04T16:50:40.456586",
     "exception": false,
     "start_time": "2024-03-04T16:50:40.430898",
     "status": "completed"
    },
    "tags": []
   },
   "source": [
    "## 1. Data and Library Import"
   ]
  },
  {
   "cell_type": "code",
   "execution_count": 1,
   "id": "9de0ae35",
   "metadata": {
    "execution": {
     "iopub.execute_input": "2024-03-04T16:50:40.510659Z",
     "iopub.status.busy": "2024-03-04T16:50:40.510266Z",
     "iopub.status.idle": "2024-03-04T16:50:43.322415Z",
     "shell.execute_reply": "2024-03-04T16:50:43.321090Z"
    },
    "id": "pze2O2at2Juu",
    "papermill": {
     "duration": 2.843248,
     "end_time": "2024-03-04T16:50:43.325840",
     "exception": false,
     "start_time": "2024-03-04T16:50:40.482592",
     "status": "completed"
    },
    "tags": []
   },
   "outputs": [],
   "source": [
    "# Basic Library Import :\n",
    "import numpy as np\n",
    "import pandas as pd\n",
    "import matplotlib.pyplot as plt\n",
    "%matplotlib inline\n",
    "import seaborn as sns\n",
    "\n",
    "# Ignoring the warnings :\n",
    "import warnings\n",
    "warnings.filterwarnings(\"ignore\")"
   ]
  },
  {
   "cell_type": "markdown",
   "id": "b8fa0963",
   "metadata": {
    "id": "OULDsgyTTBxY",
    "papermill": {
     "duration": 0.027864,
     "end_time": "2024-03-04T16:50:43.380653",
     "exception": false,
     "start_time": "2024-03-04T16:50:43.352789",
     "status": "completed"
    },
    "tags": []
   },
   "source": [
    "## 2. Data Understanding and Cleaning"
   ]
  },
  {
   "cell_type": "code",
   "execution_count": 2,
   "id": "bce1ffe8",
   "metadata": {
    "execution": {
     "iopub.execute_input": "2024-03-04T16:50:43.437060Z",
     "iopub.status.busy": "2024-03-04T16:50:43.436077Z",
     "iopub.status.idle": "2024-03-04T16:50:43.495933Z",
     "shell.execute_reply": "2024-03-04T16:50:43.494384Z"
    },
    "id": "otEPZFAzTAfA",
    "papermill": {
     "duration": 0.092251,
     "end_time": "2024-03-04T16:50:43.499545",
     "exception": false,
     "start_time": "2024-03-04T16:50:43.407294",
     "status": "completed"
    },
    "tags": []
   },
   "outputs": [
    {
     "ename": "FileNotFoundError",
     "evalue": "[Errno 2] No such file or directory: '/kaggle/input/bengaluru-house-price-data/Bengaluru_House_Data.csv'",
     "output_type": "error",
     "traceback": [
      "\u001b[0;31m---------------------------------------------------------------------------\u001b[0m",
      "\u001b[0;31mFileNotFoundError\u001b[0m                         Traceback (most recent call last)",
      "Cell \u001b[0;32mIn[2], line 2\u001b[0m\n\u001b[1;32m      1\u001b[0m data_path \u001b[38;5;241m=\u001b[39m \u001b[38;5;124m'\u001b[39m\u001b[38;5;124m/kaggle/input/bengaluru-house-price-data/Bengaluru_House_Data.csv\u001b[39m\u001b[38;5;124m'\u001b[39m\n\u001b[0;32m----> 2\u001b[0m data \u001b[38;5;241m=\u001b[39m pd\u001b[38;5;241m.\u001b[39mread_csv(data_path)\n",
      "File \u001b[0;32m/opt/anaconda3/lib/python3.11/site-packages/pandas/io/parsers/readers.py:948\u001b[0m, in \u001b[0;36mread_csv\u001b[0;34m(filepath_or_buffer, sep, delimiter, header, names, index_col, usecols, dtype, engine, converters, true_values, false_values, skipinitialspace, skiprows, skipfooter, nrows, na_values, keep_default_na, na_filter, verbose, skip_blank_lines, parse_dates, infer_datetime_format, keep_date_col, date_parser, date_format, dayfirst, cache_dates, iterator, chunksize, compression, thousands, decimal, lineterminator, quotechar, quoting, doublequote, escapechar, comment, encoding, encoding_errors, dialect, on_bad_lines, delim_whitespace, low_memory, memory_map, float_precision, storage_options, dtype_backend)\u001b[0m\n\u001b[1;32m    935\u001b[0m kwds_defaults \u001b[38;5;241m=\u001b[39m _refine_defaults_read(\n\u001b[1;32m    936\u001b[0m     dialect,\n\u001b[1;32m    937\u001b[0m     delimiter,\n\u001b[0;32m   (...)\u001b[0m\n\u001b[1;32m    944\u001b[0m     dtype_backend\u001b[38;5;241m=\u001b[39mdtype_backend,\n\u001b[1;32m    945\u001b[0m )\n\u001b[1;32m    946\u001b[0m kwds\u001b[38;5;241m.\u001b[39mupdate(kwds_defaults)\n\u001b[0;32m--> 948\u001b[0m \u001b[38;5;28;01mreturn\u001b[39;00m _read(filepath_or_buffer, kwds)\n",
      "File \u001b[0;32m/opt/anaconda3/lib/python3.11/site-packages/pandas/io/parsers/readers.py:611\u001b[0m, in \u001b[0;36m_read\u001b[0;34m(filepath_or_buffer, kwds)\u001b[0m\n\u001b[1;32m    608\u001b[0m _validate_names(kwds\u001b[38;5;241m.\u001b[39mget(\u001b[38;5;124m\"\u001b[39m\u001b[38;5;124mnames\u001b[39m\u001b[38;5;124m\"\u001b[39m, \u001b[38;5;28;01mNone\u001b[39;00m))\n\u001b[1;32m    610\u001b[0m \u001b[38;5;66;03m# Create the parser.\u001b[39;00m\n\u001b[0;32m--> 611\u001b[0m parser \u001b[38;5;241m=\u001b[39m TextFileReader(filepath_or_buffer, \u001b[38;5;241m*\u001b[39m\u001b[38;5;241m*\u001b[39mkwds)\n\u001b[1;32m    613\u001b[0m \u001b[38;5;28;01mif\u001b[39;00m chunksize \u001b[38;5;129;01mor\u001b[39;00m iterator:\n\u001b[1;32m    614\u001b[0m     \u001b[38;5;28;01mreturn\u001b[39;00m parser\n",
      "File \u001b[0;32m/opt/anaconda3/lib/python3.11/site-packages/pandas/io/parsers/readers.py:1448\u001b[0m, in \u001b[0;36mTextFileReader.__init__\u001b[0;34m(self, f, engine, **kwds)\u001b[0m\n\u001b[1;32m   1445\u001b[0m     \u001b[38;5;28mself\u001b[39m\u001b[38;5;241m.\u001b[39moptions[\u001b[38;5;124m\"\u001b[39m\u001b[38;5;124mhas_index_names\u001b[39m\u001b[38;5;124m\"\u001b[39m] \u001b[38;5;241m=\u001b[39m kwds[\u001b[38;5;124m\"\u001b[39m\u001b[38;5;124mhas_index_names\u001b[39m\u001b[38;5;124m\"\u001b[39m]\n\u001b[1;32m   1447\u001b[0m \u001b[38;5;28mself\u001b[39m\u001b[38;5;241m.\u001b[39mhandles: IOHandles \u001b[38;5;241m|\u001b[39m \u001b[38;5;28;01mNone\u001b[39;00m \u001b[38;5;241m=\u001b[39m \u001b[38;5;28;01mNone\u001b[39;00m\n\u001b[0;32m-> 1448\u001b[0m \u001b[38;5;28mself\u001b[39m\u001b[38;5;241m.\u001b[39m_engine \u001b[38;5;241m=\u001b[39m \u001b[38;5;28mself\u001b[39m\u001b[38;5;241m.\u001b[39m_make_engine(f, \u001b[38;5;28mself\u001b[39m\u001b[38;5;241m.\u001b[39mengine)\n",
      "File \u001b[0;32m/opt/anaconda3/lib/python3.11/site-packages/pandas/io/parsers/readers.py:1705\u001b[0m, in \u001b[0;36mTextFileReader._make_engine\u001b[0;34m(self, f, engine)\u001b[0m\n\u001b[1;32m   1703\u001b[0m     \u001b[38;5;28;01mif\u001b[39;00m \u001b[38;5;124m\"\u001b[39m\u001b[38;5;124mb\u001b[39m\u001b[38;5;124m\"\u001b[39m \u001b[38;5;129;01mnot\u001b[39;00m \u001b[38;5;129;01min\u001b[39;00m mode:\n\u001b[1;32m   1704\u001b[0m         mode \u001b[38;5;241m+\u001b[39m\u001b[38;5;241m=\u001b[39m \u001b[38;5;124m\"\u001b[39m\u001b[38;5;124mb\u001b[39m\u001b[38;5;124m\"\u001b[39m\n\u001b[0;32m-> 1705\u001b[0m \u001b[38;5;28mself\u001b[39m\u001b[38;5;241m.\u001b[39mhandles \u001b[38;5;241m=\u001b[39m get_handle(\n\u001b[1;32m   1706\u001b[0m     f,\n\u001b[1;32m   1707\u001b[0m     mode,\n\u001b[1;32m   1708\u001b[0m     encoding\u001b[38;5;241m=\u001b[39m\u001b[38;5;28mself\u001b[39m\u001b[38;5;241m.\u001b[39moptions\u001b[38;5;241m.\u001b[39mget(\u001b[38;5;124m\"\u001b[39m\u001b[38;5;124mencoding\u001b[39m\u001b[38;5;124m\"\u001b[39m, \u001b[38;5;28;01mNone\u001b[39;00m),\n\u001b[1;32m   1709\u001b[0m     compression\u001b[38;5;241m=\u001b[39m\u001b[38;5;28mself\u001b[39m\u001b[38;5;241m.\u001b[39moptions\u001b[38;5;241m.\u001b[39mget(\u001b[38;5;124m\"\u001b[39m\u001b[38;5;124mcompression\u001b[39m\u001b[38;5;124m\"\u001b[39m, \u001b[38;5;28;01mNone\u001b[39;00m),\n\u001b[1;32m   1710\u001b[0m     memory_map\u001b[38;5;241m=\u001b[39m\u001b[38;5;28mself\u001b[39m\u001b[38;5;241m.\u001b[39moptions\u001b[38;5;241m.\u001b[39mget(\u001b[38;5;124m\"\u001b[39m\u001b[38;5;124mmemory_map\u001b[39m\u001b[38;5;124m\"\u001b[39m, \u001b[38;5;28;01mFalse\u001b[39;00m),\n\u001b[1;32m   1711\u001b[0m     is_text\u001b[38;5;241m=\u001b[39mis_text,\n\u001b[1;32m   1712\u001b[0m     errors\u001b[38;5;241m=\u001b[39m\u001b[38;5;28mself\u001b[39m\u001b[38;5;241m.\u001b[39moptions\u001b[38;5;241m.\u001b[39mget(\u001b[38;5;124m\"\u001b[39m\u001b[38;5;124mencoding_errors\u001b[39m\u001b[38;5;124m\"\u001b[39m, \u001b[38;5;124m\"\u001b[39m\u001b[38;5;124mstrict\u001b[39m\u001b[38;5;124m\"\u001b[39m),\n\u001b[1;32m   1713\u001b[0m     storage_options\u001b[38;5;241m=\u001b[39m\u001b[38;5;28mself\u001b[39m\u001b[38;5;241m.\u001b[39moptions\u001b[38;5;241m.\u001b[39mget(\u001b[38;5;124m\"\u001b[39m\u001b[38;5;124mstorage_options\u001b[39m\u001b[38;5;124m\"\u001b[39m, \u001b[38;5;28;01mNone\u001b[39;00m),\n\u001b[1;32m   1714\u001b[0m )\n\u001b[1;32m   1715\u001b[0m \u001b[38;5;28;01massert\u001b[39;00m \u001b[38;5;28mself\u001b[39m\u001b[38;5;241m.\u001b[39mhandles \u001b[38;5;129;01mis\u001b[39;00m \u001b[38;5;129;01mnot\u001b[39;00m \u001b[38;5;28;01mNone\u001b[39;00m\n\u001b[1;32m   1716\u001b[0m f \u001b[38;5;241m=\u001b[39m \u001b[38;5;28mself\u001b[39m\u001b[38;5;241m.\u001b[39mhandles\u001b[38;5;241m.\u001b[39mhandle\n",
      "File \u001b[0;32m/opt/anaconda3/lib/python3.11/site-packages/pandas/io/common.py:863\u001b[0m, in \u001b[0;36mget_handle\u001b[0;34m(path_or_buf, mode, encoding, compression, memory_map, is_text, errors, storage_options)\u001b[0m\n\u001b[1;32m    858\u001b[0m \u001b[38;5;28;01melif\u001b[39;00m \u001b[38;5;28misinstance\u001b[39m(handle, \u001b[38;5;28mstr\u001b[39m):\n\u001b[1;32m    859\u001b[0m     \u001b[38;5;66;03m# Check whether the filename is to be opened in binary mode.\u001b[39;00m\n\u001b[1;32m    860\u001b[0m     \u001b[38;5;66;03m# Binary mode does not support 'encoding' and 'newline'.\u001b[39;00m\n\u001b[1;32m    861\u001b[0m     \u001b[38;5;28;01mif\u001b[39;00m ioargs\u001b[38;5;241m.\u001b[39mencoding \u001b[38;5;129;01mand\u001b[39;00m \u001b[38;5;124m\"\u001b[39m\u001b[38;5;124mb\u001b[39m\u001b[38;5;124m\"\u001b[39m \u001b[38;5;129;01mnot\u001b[39;00m \u001b[38;5;129;01min\u001b[39;00m ioargs\u001b[38;5;241m.\u001b[39mmode:\n\u001b[1;32m    862\u001b[0m         \u001b[38;5;66;03m# Encoding\u001b[39;00m\n\u001b[0;32m--> 863\u001b[0m         handle \u001b[38;5;241m=\u001b[39m \u001b[38;5;28mopen\u001b[39m(\n\u001b[1;32m    864\u001b[0m             handle,\n\u001b[1;32m    865\u001b[0m             ioargs\u001b[38;5;241m.\u001b[39mmode,\n\u001b[1;32m    866\u001b[0m             encoding\u001b[38;5;241m=\u001b[39mioargs\u001b[38;5;241m.\u001b[39mencoding,\n\u001b[1;32m    867\u001b[0m             errors\u001b[38;5;241m=\u001b[39merrors,\n\u001b[1;32m    868\u001b[0m             newline\u001b[38;5;241m=\u001b[39m\u001b[38;5;124m\"\u001b[39m\u001b[38;5;124m\"\u001b[39m,\n\u001b[1;32m    869\u001b[0m         )\n\u001b[1;32m    870\u001b[0m     \u001b[38;5;28;01melse\u001b[39;00m:\n\u001b[1;32m    871\u001b[0m         \u001b[38;5;66;03m# Binary mode\u001b[39;00m\n\u001b[1;32m    872\u001b[0m         handle \u001b[38;5;241m=\u001b[39m \u001b[38;5;28mopen\u001b[39m(handle, ioargs\u001b[38;5;241m.\u001b[39mmode)\n",
      "\u001b[0;31mFileNotFoundError\u001b[0m: [Errno 2] No such file or directory: '/kaggle/input/bengaluru-house-price-data/Bengaluru_House_Data.csv'"
     ]
    }
   ],
   "source": [
    "data_path = '/kaggle/input/bengaluru-house-price-data/Bengaluru_House_Data.csv'\n",
    "data = pd.read_csv(data_path)"
   ]
  },
  {
   "cell_type": "code",
   "execution_count": null,
   "id": "480d02e7",
   "metadata": {
    "execution": {
     "iopub.execute_input": "2024-03-04T16:50:43.554936Z",
     "iopub.status.busy": "2024-03-04T16:50:43.554262Z",
     "iopub.status.idle": "2024-03-04T16:50:43.581162Z",
     "shell.execute_reply": "2024-03-04T16:50:43.580001Z"
    },
    "id": "u22RyYHfYIdT",
    "outputId": "d2c122b7-9c8e-48aa-e9f7-fa23f82f61cb",
    "papermill": {
     "duration": 0.057868,
     "end_time": "2024-03-04T16:50:43.583663",
     "exception": false,
     "start_time": "2024-03-04T16:50:43.525795",
     "status": "completed"
    },
    "tags": []
   },
   "outputs": [
    {
     "data": {
      "text/html": [
       "<div>\n",
       "<style scoped>\n",
       "    .dataframe tbody tr th:only-of-type {\n",
       "        vertical-align: middle;\n",
       "    }\n",
       "\n",
       "    .dataframe tbody tr th {\n",
       "        vertical-align: top;\n",
       "    }\n",
       "\n",
       "    .dataframe thead th {\n",
       "        text-align: right;\n",
       "    }\n",
       "</style>\n",
       "<table border=\"1\" class=\"dataframe\">\n",
       "  <thead>\n",
       "    <tr style=\"text-align: right;\">\n",
       "      <th></th>\n",
       "      <th>area_type</th>\n",
       "      <th>availability</th>\n",
       "      <th>location</th>\n",
       "      <th>size</th>\n",
       "      <th>society</th>\n",
       "      <th>total_sqft</th>\n",
       "      <th>bath</th>\n",
       "      <th>balcony</th>\n",
       "      <th>price</th>\n",
       "    </tr>\n",
       "  </thead>\n",
       "  <tbody>\n",
       "    <tr>\n",
       "      <th>0</th>\n",
       "      <td>Super built-up  Area</td>\n",
       "      <td>19-Dec</td>\n",
       "      <td>Electronic City Phase II</td>\n",
       "      <td>2 BHK</td>\n",
       "      <td>Coomee</td>\n",
       "      <td>1056</td>\n",
       "      <td>2.0</td>\n",
       "      <td>1.0</td>\n",
       "      <td>39.07</td>\n",
       "    </tr>\n",
       "    <tr>\n",
       "      <th>1</th>\n",
       "      <td>Plot  Area</td>\n",
       "      <td>Ready To Move</td>\n",
       "      <td>Chikka Tirupathi</td>\n",
       "      <td>4 Bedroom</td>\n",
       "      <td>Theanmp</td>\n",
       "      <td>2600</td>\n",
       "      <td>5.0</td>\n",
       "      <td>3.0</td>\n",
       "      <td>120.00</td>\n",
       "    </tr>\n",
       "    <tr>\n",
       "      <th>2</th>\n",
       "      <td>Built-up  Area</td>\n",
       "      <td>Ready To Move</td>\n",
       "      <td>Uttarahalli</td>\n",
       "      <td>3 BHK</td>\n",
       "      <td>NaN</td>\n",
       "      <td>1440</td>\n",
       "      <td>2.0</td>\n",
       "      <td>3.0</td>\n",
       "      <td>62.00</td>\n",
       "    </tr>\n",
       "    <tr>\n",
       "      <th>3</th>\n",
       "      <td>Super built-up  Area</td>\n",
       "      <td>Ready To Move</td>\n",
       "      <td>Lingadheeranahalli</td>\n",
       "      <td>3 BHK</td>\n",
       "      <td>Soiewre</td>\n",
       "      <td>1521</td>\n",
       "      <td>3.0</td>\n",
       "      <td>1.0</td>\n",
       "      <td>95.00</td>\n",
       "    </tr>\n",
       "    <tr>\n",
       "      <th>4</th>\n",
       "      <td>Super built-up  Area</td>\n",
       "      <td>Ready To Move</td>\n",
       "      <td>Kothanur</td>\n",
       "      <td>2 BHK</td>\n",
       "      <td>NaN</td>\n",
       "      <td>1200</td>\n",
       "      <td>2.0</td>\n",
       "      <td>1.0</td>\n",
       "      <td>51.00</td>\n",
       "    </tr>\n",
       "  </tbody>\n",
       "</table>\n",
       "</div>"
      ],
      "text/plain": [
       "              area_type   availability                  location       size  \\\n",
       "0  Super built-up  Area         19-Dec  Electronic City Phase II      2 BHK   \n",
       "1            Plot  Area  Ready To Move          Chikka Tirupathi  4 Bedroom   \n",
       "2        Built-up  Area  Ready To Move               Uttarahalli      3 BHK   \n",
       "3  Super built-up  Area  Ready To Move        Lingadheeranahalli      3 BHK   \n",
       "4  Super built-up  Area  Ready To Move                  Kothanur      2 BHK   \n",
       "\n",
       "   society total_sqft  bath  balcony   price  \n",
       "0  Coomee        1056   2.0      1.0   39.07  \n",
       "1  Theanmp       2600   5.0      3.0  120.00  \n",
       "2      NaN       1440   2.0      3.0   62.00  \n",
       "3  Soiewre       1521   3.0      1.0   95.00  \n",
       "4      NaN       1200   2.0      1.0   51.00  "
      ]
     },
     "execution_count": 3,
     "metadata": {},
     "output_type": "execute_result"
    }
   ],
   "source": [
    "data.head()"
   ]
  },
  {
   "cell_type": "code",
   "execution_count": null,
   "id": "a7b6fe03",
   "metadata": {
    "execution": {
     "iopub.execute_input": "2024-03-04T16:50:43.638440Z",
     "iopub.status.busy": "2024-03-04T16:50:43.637759Z",
     "iopub.status.idle": "2024-03-04T16:50:43.644225Z",
     "shell.execute_reply": "2024-03-04T16:50:43.643367Z"
    },
    "id": "aO_Ji5-sYJle",
    "outputId": "59fbaf95-4069-46c5-d49f-02e46a4c7253",
    "papermill": {
     "duration": 0.036625,
     "end_time": "2024-03-04T16:50:43.646570",
     "exception": false,
     "start_time": "2024-03-04T16:50:43.609945",
     "status": "completed"
    },
    "tags": []
   },
   "outputs": [
    {
     "data": {
      "text/plain": [
       "(13320, 9)"
      ]
     },
     "execution_count": 4,
     "metadata": {},
     "output_type": "execute_result"
    }
   ],
   "source": [
    "data.shape"
   ]
  },
  {
   "cell_type": "code",
   "execution_count": null,
   "id": "6c5716a9",
   "metadata": {
    "execution": {
     "iopub.execute_input": "2024-03-04T16:50:43.706905Z",
     "iopub.status.busy": "2024-03-04T16:50:43.706162Z",
     "iopub.status.idle": "2024-03-04T16:50:43.747935Z",
     "shell.execute_reply": "2024-03-04T16:50:43.746398Z"
    },
    "id": "AaOEow26Yhbg",
    "outputId": "f2ba382c-d5ce-405c-f138-5379957efcf5",
    "papermill": {
     "duration": 0.076323,
     "end_time": "2024-03-04T16:50:43.750695",
     "exception": false,
     "start_time": "2024-03-04T16:50:43.674372",
     "status": "completed"
    },
    "tags": []
   },
   "outputs": [
    {
     "name": "stdout",
     "output_type": "stream",
     "text": [
      "<class 'pandas.core.frame.DataFrame'>\n",
      "RangeIndex: 13320 entries, 0 to 13319\n",
      "Data columns (total 9 columns):\n",
      " #   Column        Non-Null Count  Dtype  \n",
      "---  ------        --------------  -----  \n",
      " 0   area_type     13320 non-null  object \n",
      " 1   availability  13320 non-null  object \n",
      " 2   location      13319 non-null  object \n",
      " 3   size          13304 non-null  object \n",
      " 4   society       7818 non-null   object \n",
      " 5   total_sqft    13320 non-null  object \n",
      " 6   bath          13247 non-null  float64\n",
      " 7   balcony       12711 non-null  float64\n",
      " 8   price         13320 non-null  float64\n",
      "dtypes: float64(3), object(6)\n",
      "memory usage: 936.7+ KB\n"
     ]
    }
   ],
   "source": [
    "data.info()"
   ]
  },
  {
   "cell_type": "code",
   "execution_count": null,
   "id": "c87814db",
   "metadata": {
    "execution": {
     "iopub.execute_input": "2024-03-04T16:50:43.809516Z",
     "iopub.status.busy": "2024-03-04T16:50:43.808767Z",
     "iopub.status.idle": "2024-03-04T16:50:43.846006Z",
     "shell.execute_reply": "2024-03-04T16:50:43.844930Z"
    },
    "id": "B0ZMQfB0YjEK",
    "outputId": "fd1788bd-42d4-4e9f-eb26-9705089ee802",
    "papermill": {
     "duration": 0.069564,
     "end_time": "2024-03-04T16:50:43.849007",
     "exception": false,
     "start_time": "2024-03-04T16:50:43.779443",
     "status": "completed"
    },
    "tags": []
   },
   "outputs": [
    {
     "name": "stdout",
     "output_type": "stream",
     "text": [
      "area_type\n",
      "Super built-up  Area    8790\n",
      "Built-up  Area          2418\n",
      "Plot  Area              2025\n",
      "Carpet  Area              87\n",
      "Name: count, dtype: int64\n",
      "********************\n",
      "availability\n",
      "Ready To Move    10581\n",
      "18-Dec             307\n",
      "18-May             295\n",
      "18-Apr             271\n",
      "18-Aug             200\n",
      "                 ...  \n",
      "15-Aug               1\n",
      "17-Jan               1\n",
      "16-Nov               1\n",
      "16-Jan               1\n",
      "14-Jul               1\n",
      "Name: count, Length: 81, dtype: int64\n",
      "********************\n",
      "location\n",
      "Whitefield                        540\n",
      "Sarjapur  Road                    399\n",
      "Electronic City                   302\n",
      "Kanakpura Road                    273\n",
      "Thanisandra                       234\n",
      "                                 ... \n",
      "Bapuji Layout                       1\n",
      "1st Stage Radha Krishna Layout      1\n",
      "BEML Layout 5th stage               1\n",
      "singapura paradise                  1\n",
      "Abshot Layout                       1\n",
      "Name: count, Length: 1305, dtype: int64\n",
      "********************\n",
      "size\n",
      "2 BHK         5199\n",
      "3 BHK         4310\n",
      "4 Bedroom      826\n",
      "4 BHK          591\n",
      "3 Bedroom      547\n",
      "1 BHK          538\n",
      "2 Bedroom      329\n",
      "5 Bedroom      297\n",
      "6 Bedroom      191\n",
      "1 Bedroom      105\n",
      "8 Bedroom       84\n",
      "7 Bedroom       83\n",
      "5 BHK           59\n",
      "9 Bedroom       46\n",
      "6 BHK           30\n",
      "7 BHK           17\n",
      "1 RK            13\n",
      "10 Bedroom      12\n",
      "9 BHK            8\n",
      "8 BHK            5\n",
      "11 BHK           2\n",
      "11 Bedroom       2\n",
      "10 BHK           2\n",
      "14 BHK           1\n",
      "13 BHK           1\n",
      "12 Bedroom       1\n",
      "27 BHK           1\n",
      "43 Bedroom       1\n",
      "16 BHK           1\n",
      "19 BHK           1\n",
      "18 Bedroom       1\n",
      "Name: count, dtype: int64\n",
      "********************\n",
      "society\n",
      "GrrvaGr    80\n",
      "PrarePa    76\n",
      "Sryalan    59\n",
      "Prtates    59\n",
      "GMown E    56\n",
      "           ..\n",
      "Amionce     1\n",
      "JaghtDe     1\n",
      "Jauraht     1\n",
      "Brity U     1\n",
      "RSntsAp     1\n",
      "Name: count, Length: 2688, dtype: int64\n",
      "********************\n",
      "total_sqft\n",
      "1200    843\n",
      "1100    221\n",
      "1500    205\n",
      "2400    196\n",
      "600     180\n",
      "       ... \n",
      "3580      1\n",
      "2461      1\n",
      "1437      1\n",
      "2155      1\n",
      "4689      1\n",
      "Name: count, Length: 2117, dtype: int64\n",
      "********************\n",
      "bath\n",
      "2.0     6908\n",
      "3.0     3286\n",
      "4.0     1226\n",
      "1.0      788\n",
      "5.0      524\n",
      "6.0      273\n",
      "7.0      102\n",
      "8.0       64\n",
      "9.0       43\n",
      "10.0      13\n",
      "12.0       7\n",
      "13.0       3\n",
      "11.0       3\n",
      "16.0       2\n",
      "27.0       1\n",
      "40.0       1\n",
      "15.0       1\n",
      "14.0       1\n",
      "18.0       1\n",
      "Name: count, dtype: int64\n",
      "********************\n",
      "balcony\n",
      "2.0    5113\n",
      "1.0    4897\n",
      "3.0    1672\n",
      "0.0    1029\n",
      "Name: count, dtype: int64\n",
      "********************\n",
      "price\n",
      "75.00     310\n",
      "65.00     302\n",
      "55.00     275\n",
      "60.00     270\n",
      "45.00     240\n",
      "         ... \n",
      "351.00      1\n",
      "54.10       1\n",
      "80.64       1\n",
      "32.73       1\n",
      "488.00      1\n",
      "Name: count, Length: 1994, dtype: int64\n",
      "********************\n"
     ]
    }
   ],
   "source": [
    "for column in data.columns:\n",
    "  print(data[column].value_counts())\n",
    "  print(\"*\"*20)"
   ]
  },
  {
   "cell_type": "code",
   "execution_count": null,
   "id": "97fac5aa",
   "metadata": {
    "execution": {
     "iopub.execute_input": "2024-03-04T16:50:43.907912Z",
     "iopub.status.busy": "2024-03-04T16:50:43.906870Z",
     "iopub.status.idle": "2024-03-04T16:50:43.925368Z",
     "shell.execute_reply": "2024-03-04T16:50:43.923763Z"
    },
    "id": "Y0egv7kUY2R8",
    "outputId": "30a730be-2e22-486b-d9aa-b31acd5f8340",
    "papermill": {
     "duration": 0.051621,
     "end_time": "2024-03-04T16:50:43.928087",
     "exception": false,
     "start_time": "2024-03-04T16:50:43.876466",
     "status": "completed"
    },
    "tags": []
   },
   "outputs": [
    {
     "data": {
      "text/plain": [
       "area_type          0\n",
       "availability       0\n",
       "location           1\n",
       "size              16\n",
       "society         5502\n",
       "total_sqft         0\n",
       "bath              73\n",
       "balcony          609\n",
       "price              0\n",
       "dtype: int64"
      ]
     },
     "execution_count": 7,
     "metadata": {},
     "output_type": "execute_result"
    }
   ],
   "source": [
    "data.isna().sum()"
   ]
  },
  {
   "cell_type": "code",
   "execution_count": null,
   "id": "dd4201d3",
   "metadata": {
    "execution": {
     "iopub.execute_input": "2024-03-04T16:50:43.989539Z",
     "iopub.status.busy": "2024-03-04T16:50:43.987817Z",
     "iopub.status.idle": "2024-03-04T16:50:43.998880Z",
     "shell.execute_reply": "2024-03-04T16:50:43.997537Z"
    },
    "id": "nqIfP1pmZNZI",
    "papermill": {
     "duration": 0.044631,
     "end_time": "2024-03-04T16:50:44.001755",
     "exception": false,
     "start_time": "2024-03-04T16:50:43.957124",
     "status": "completed"
    },
    "tags": []
   },
   "outputs": [],
   "source": [
    "data.drop(columns = ['area_type','availability','society','balcony'],inplace=True)"
   ]
  },
  {
   "cell_type": "code",
   "execution_count": null,
   "id": "a2845f3e",
   "metadata": {
    "execution": {
     "iopub.execute_input": "2024-03-04T16:50:44.060273Z",
     "iopub.status.busy": "2024-03-04T16:50:44.059800Z",
     "iopub.status.idle": "2024-03-04T16:50:44.082340Z",
     "shell.execute_reply": "2024-03-04T16:50:44.080413Z"
    },
    "id": "tIkY6g5oZsfK",
    "outputId": "8e836cbb-4e8e-4976-adfc-e7843f109721",
    "papermill": {
     "duration": 0.055629,
     "end_time": "2024-03-04T16:50:44.085327",
     "exception": false,
     "start_time": "2024-03-04T16:50:44.029698",
     "status": "completed"
    },
    "tags": []
   },
   "outputs": [
    {
     "data": {
      "text/html": [
       "<div>\n",
       "<style scoped>\n",
       "    .dataframe tbody tr th:only-of-type {\n",
       "        vertical-align: middle;\n",
       "    }\n",
       "\n",
       "    .dataframe tbody tr th {\n",
       "        vertical-align: top;\n",
       "    }\n",
       "\n",
       "    .dataframe thead th {\n",
       "        text-align: right;\n",
       "    }\n",
       "</style>\n",
       "<table border=\"1\" class=\"dataframe\">\n",
       "  <thead>\n",
       "    <tr style=\"text-align: right;\">\n",
       "      <th></th>\n",
       "      <th>bath</th>\n",
       "      <th>price</th>\n",
       "    </tr>\n",
       "  </thead>\n",
       "  <tbody>\n",
       "    <tr>\n",
       "      <th>count</th>\n",
       "      <td>13247.000000</td>\n",
       "      <td>13320.000000</td>\n",
       "    </tr>\n",
       "    <tr>\n",
       "      <th>mean</th>\n",
       "      <td>2.692610</td>\n",
       "      <td>112.565627</td>\n",
       "    </tr>\n",
       "    <tr>\n",
       "      <th>std</th>\n",
       "      <td>1.341458</td>\n",
       "      <td>148.971674</td>\n",
       "    </tr>\n",
       "    <tr>\n",
       "      <th>min</th>\n",
       "      <td>1.000000</td>\n",
       "      <td>8.000000</td>\n",
       "    </tr>\n",
       "    <tr>\n",
       "      <th>25%</th>\n",
       "      <td>2.000000</td>\n",
       "      <td>50.000000</td>\n",
       "    </tr>\n",
       "    <tr>\n",
       "      <th>50%</th>\n",
       "      <td>2.000000</td>\n",
       "      <td>72.000000</td>\n",
       "    </tr>\n",
       "    <tr>\n",
       "      <th>75%</th>\n",
       "      <td>3.000000</td>\n",
       "      <td>120.000000</td>\n",
       "    </tr>\n",
       "    <tr>\n",
       "      <th>max</th>\n",
       "      <td>40.000000</td>\n",
       "      <td>3600.000000</td>\n",
       "    </tr>\n",
       "  </tbody>\n",
       "</table>\n",
       "</div>"
      ],
      "text/plain": [
       "               bath         price\n",
       "count  13247.000000  13320.000000\n",
       "mean       2.692610    112.565627\n",
       "std        1.341458    148.971674\n",
       "min        1.000000      8.000000\n",
       "25%        2.000000     50.000000\n",
       "50%        2.000000     72.000000\n",
       "75%        3.000000    120.000000\n",
       "max       40.000000   3600.000000"
      ]
     },
     "execution_count": 9,
     "metadata": {},
     "output_type": "execute_result"
    }
   ],
   "source": [
    "data.describe()"
   ]
  },
  {
   "cell_type": "code",
   "execution_count": null,
   "id": "b6623d83",
   "metadata": {
    "execution": {
     "iopub.execute_input": "2024-03-04T16:50:44.208400Z",
     "iopub.status.busy": "2024-03-04T16:50:44.207711Z",
     "iopub.status.idle": "2024-03-04T16:50:44.225790Z",
     "shell.execute_reply": "2024-03-04T16:50:44.224572Z"
    },
    "id": "CmDdlmqxZyUg",
    "outputId": "182e5d1d-2587-427f-bc05-f5a4b9b61e90",
    "papermill": {
     "duration": 0.050904,
     "end_time": "2024-03-04T16:50:44.229294",
     "exception": false,
     "start_time": "2024-03-04T16:50:44.178390",
     "status": "completed"
    },
    "tags": []
   },
   "outputs": [
    {
     "name": "stdout",
     "output_type": "stream",
     "text": [
      "<class 'pandas.core.frame.DataFrame'>\n",
      "RangeIndex: 13320 entries, 0 to 13319\n",
      "Data columns (total 5 columns):\n",
      " #   Column      Non-Null Count  Dtype  \n",
      "---  ------      --------------  -----  \n",
      " 0   location    13319 non-null  object \n",
      " 1   size        13304 non-null  object \n",
      " 2   total_sqft  13320 non-null  object \n",
      " 3   bath        13247 non-null  float64\n",
      " 4   price       13320 non-null  float64\n",
      "dtypes: float64(2), object(3)\n",
      "memory usage: 520.4+ KB\n"
     ]
    }
   ],
   "source": [
    "data.info()"
   ]
  },
  {
   "cell_type": "code",
   "execution_count": null,
   "id": "3efaf75b",
   "metadata": {
    "execution": {
     "iopub.execute_input": "2024-03-04T16:50:44.294198Z",
     "iopub.status.busy": "2024-03-04T16:50:44.293521Z",
     "iopub.status.idle": "2024-03-04T16:50:44.305488Z",
     "shell.execute_reply": "2024-03-04T16:50:44.304612Z"
    },
    "id": "swcGSIqCZ1Fk",
    "outputId": "23439af1-b89c-45e8-cc6d-1dd30dfc9dab",
    "papermill": {
     "duration": 0.04696,
     "end_time": "2024-03-04T16:50:44.307824",
     "exception": false,
     "start_time": "2024-03-04T16:50:44.260864",
     "status": "completed"
    },
    "tags": []
   },
   "outputs": [
    {
     "data": {
      "text/plain": [
       "location\n",
       "Whitefield                        540\n",
       "Sarjapur  Road                    399\n",
       "Electronic City                   302\n",
       "Kanakpura Road                    273\n",
       "Thanisandra                       234\n",
       "                                 ... \n",
       "Bapuji Layout                       1\n",
       "1st Stage Radha Krishna Layout      1\n",
       "BEML Layout 5th stage               1\n",
       "singapura paradise                  1\n",
       "Abshot Layout                       1\n",
       "Name: count, Length: 1305, dtype: int64"
      ]
     },
     "execution_count": 11,
     "metadata": {},
     "output_type": "execute_result"
    }
   ],
   "source": [
    "# Data cleaning :\n",
    "data['location'].value_counts()"
   ]
  },
  {
   "cell_type": "code",
   "execution_count": null,
   "id": "8f4030c3",
   "metadata": {
    "execution": {
     "iopub.execute_input": "2024-03-04T16:50:44.366728Z",
     "iopub.status.busy": "2024-03-04T16:50:44.365383Z",
     "iopub.status.idle": "2024-03-04T16:50:44.373991Z",
     "shell.execute_reply": "2024-03-04T16:50:44.372981Z"
    },
    "id": "lh3jZi90Z_KC",
    "papermill": {
     "duration": 0.040584,
     "end_time": "2024-03-04T16:50:44.376642",
     "exception": false,
     "start_time": "2024-03-04T16:50:44.336058",
     "status": "completed"
    },
    "tags": []
   },
   "outputs": [],
   "source": [
    "data['location'] = data['location'].fillna('Sarjapur  Road')"
   ]
  },
  {
   "cell_type": "code",
   "execution_count": null,
   "id": "c5bc31a6",
   "metadata": {
    "execution": {
     "iopub.execute_input": "2024-03-04T16:50:44.437445Z",
     "iopub.status.busy": "2024-03-04T16:50:44.436364Z",
     "iopub.status.idle": "2024-03-04T16:50:44.449236Z",
     "shell.execute_reply": "2024-03-04T16:50:44.447511Z"
    },
    "id": "ecmqkeKXfv8t",
    "outputId": "b8c2eff3-b97e-4644-c77f-4ca40c957021",
    "papermill": {
     "duration": 0.046605,
     "end_time": "2024-03-04T16:50:44.451936",
     "exception": false,
     "start_time": "2024-03-04T16:50:44.405331",
     "status": "completed"
    },
    "tags": []
   },
   "outputs": [
    {
     "data": {
      "text/plain": [
       "size\n",
       "2 BHK         5199\n",
       "3 BHK         4310\n",
       "4 Bedroom      826\n",
       "4 BHK          591\n",
       "3 Bedroom      547\n",
       "1 BHK          538\n",
       "2 Bedroom      329\n",
       "5 Bedroom      297\n",
       "6 Bedroom      191\n",
       "1 Bedroom      105\n",
       "8 Bedroom       84\n",
       "7 Bedroom       83\n",
       "5 BHK           59\n",
       "9 Bedroom       46\n",
       "6 BHK           30\n",
       "7 BHK           17\n",
       "1 RK            13\n",
       "10 Bedroom      12\n",
       "9 BHK            8\n",
       "8 BHK            5\n",
       "11 BHK           2\n",
       "11 Bedroom       2\n",
       "10 BHK           2\n",
       "14 BHK           1\n",
       "13 BHK           1\n",
       "12 Bedroom       1\n",
       "27 BHK           1\n",
       "43 Bedroom       1\n",
       "16 BHK           1\n",
       "19 BHK           1\n",
       "18 Bedroom       1\n",
       "Name: count, dtype: int64"
      ]
     },
     "execution_count": 13,
     "metadata": {},
     "output_type": "execute_result"
    }
   ],
   "source": [
    "data['size'].value_counts()"
   ]
  },
  {
   "cell_type": "code",
   "execution_count": null,
   "id": "e4b122d3",
   "metadata": {
    "execution": {
     "iopub.execute_input": "2024-03-04T16:50:44.516123Z",
     "iopub.status.busy": "2024-03-04T16:50:44.515453Z",
     "iopub.status.idle": "2024-03-04T16:50:44.522785Z",
     "shell.execute_reply": "2024-03-04T16:50:44.521767Z"
    },
    "id": "RIpy_rm-f1ll",
    "papermill": {
     "duration": 0.040639,
     "end_time": "2024-03-04T16:50:44.525352",
     "exception": false,
     "start_time": "2024-03-04T16:50:44.484713",
     "status": "completed"
    },
    "tags": []
   },
   "outputs": [],
   "source": [
    "data['size'] = data['size'].fillna('2 BHK')"
   ]
  },
  {
   "cell_type": "code",
   "execution_count": null,
   "id": "f72eb42b",
   "metadata": {
    "execution": {
     "iopub.execute_input": "2024-03-04T16:50:44.587373Z",
     "iopub.status.busy": "2024-03-04T16:50:44.586721Z",
     "iopub.status.idle": "2024-03-04T16:50:44.594007Z",
     "shell.execute_reply": "2024-03-04T16:50:44.592366Z"
    },
    "id": "Q6IFDwmwneku",
    "papermill": {
     "duration": 0.043054,
     "end_time": "2024-03-04T16:50:44.597344",
     "exception": false,
     "start_time": "2024-03-04T16:50:44.554290",
     "status": "completed"
    },
    "tags": []
   },
   "outputs": [],
   "source": [
    "data['bath'] = data['bath'].fillna(data['bath'].median())"
   ]
  },
  {
   "cell_type": "code",
   "execution_count": null,
   "id": "b623128b",
   "metadata": {
    "execution": {
     "iopub.execute_input": "2024-03-04T16:50:44.658532Z",
     "iopub.status.busy": "2024-03-04T16:50:44.658126Z",
     "iopub.status.idle": "2024-03-04T16:50:44.675128Z",
     "shell.execute_reply": "2024-03-04T16:50:44.673378Z"
    },
    "id": "NL2rLNqQQHu_",
    "outputId": "d44de4fc-2280-494c-8907-cc187d538375",
    "papermill": {
     "duration": 0.051045,
     "end_time": "2024-03-04T16:50:44.677691",
     "exception": false,
     "start_time": "2024-03-04T16:50:44.626646",
     "status": "completed"
    },
    "tags": []
   },
   "outputs": [
    {
     "name": "stdout",
     "output_type": "stream",
     "text": [
      "<class 'pandas.core.frame.DataFrame'>\n",
      "RangeIndex: 13320 entries, 0 to 13319\n",
      "Data columns (total 5 columns):\n",
      " #   Column      Non-Null Count  Dtype  \n",
      "---  ------      --------------  -----  \n",
      " 0   location    13320 non-null  object \n",
      " 1   size        13320 non-null  object \n",
      " 2   total_sqft  13320 non-null  object \n",
      " 3   bath        13320 non-null  float64\n",
      " 4   price       13320 non-null  float64\n",
      "dtypes: float64(2), object(3)\n",
      "memory usage: 520.4+ KB\n"
     ]
    }
   ],
   "source": [
    "data.info()"
   ]
  },
  {
   "cell_type": "code",
   "execution_count": null,
   "id": "87895595",
   "metadata": {
    "execution": {
     "iopub.execute_input": "2024-03-04T16:50:44.737117Z",
     "iopub.status.busy": "2024-03-04T16:50:44.736184Z",
     "iopub.status.idle": "2024-03-04T16:50:44.860536Z",
     "shell.execute_reply": "2024-03-04T16:50:44.859385Z"
    },
    "id": "g4j2idcfQIpx",
    "papermill": {
     "duration": 0.157022,
     "end_time": "2024-03-04T16:50:44.863349",
     "exception": false,
     "start_time": "2024-03-04T16:50:44.706327",
     "status": "completed"
    },
    "tags": []
   },
   "outputs": [],
   "source": [
    "data['bhk'] = data['size'].str.split().str.get(0).astype(int)"
   ]
  },
  {
   "cell_type": "code",
   "execution_count": null,
   "id": "85f14213",
   "metadata": {
    "execution": {
     "iopub.execute_input": "2024-03-04T16:50:44.927634Z",
     "iopub.status.busy": "2024-03-04T16:50:44.926778Z",
     "iopub.status.idle": "2024-03-04T16:50:44.947085Z",
     "shell.execute_reply": "2024-03-04T16:50:44.945888Z"
    },
    "id": "8dImp2KbQcBM",
    "outputId": "b5ddb2fb-789c-4f66-bce7-0a9c79dde99c",
    "papermill": {
     "duration": 0.054925,
     "end_time": "2024-03-04T16:50:44.949850",
     "exception": false,
     "start_time": "2024-03-04T16:50:44.894925",
     "status": "completed"
    },
    "tags": []
   },
   "outputs": [
    {
     "data": {
      "text/html": [
       "<div>\n",
       "<style scoped>\n",
       "    .dataframe tbody tr th:only-of-type {\n",
       "        vertical-align: middle;\n",
       "    }\n",
       "\n",
       "    .dataframe tbody tr th {\n",
       "        vertical-align: top;\n",
       "    }\n",
       "\n",
       "    .dataframe thead th {\n",
       "        text-align: right;\n",
       "    }\n",
       "</style>\n",
       "<table border=\"1\" class=\"dataframe\">\n",
       "  <thead>\n",
       "    <tr style=\"text-align: right;\">\n",
       "      <th></th>\n",
       "      <th>location</th>\n",
       "      <th>size</th>\n",
       "      <th>total_sqft</th>\n",
       "      <th>bath</th>\n",
       "      <th>price</th>\n",
       "      <th>bhk</th>\n",
       "    </tr>\n",
       "  </thead>\n",
       "  <tbody>\n",
       "    <tr>\n",
       "      <th>1718</th>\n",
       "      <td>2Electronic City Phase II</td>\n",
       "      <td>27 BHK</td>\n",
       "      <td>8000</td>\n",
       "      <td>27.0</td>\n",
       "      <td>230.0</td>\n",
       "      <td>27</td>\n",
       "    </tr>\n",
       "    <tr>\n",
       "      <th>4684</th>\n",
       "      <td>Munnekollal</td>\n",
       "      <td>43 Bedroom</td>\n",
       "      <td>2400</td>\n",
       "      <td>40.0</td>\n",
       "      <td>660.0</td>\n",
       "      <td>43</td>\n",
       "    </tr>\n",
       "  </tbody>\n",
       "</table>\n",
       "</div>"
      ],
      "text/plain": [
       "                       location        size total_sqft  bath  price  bhk\n",
       "1718  2Electronic City Phase II      27 BHK       8000  27.0  230.0   27\n",
       "4684                Munnekollal  43 Bedroom       2400  40.0  660.0   43"
      ]
     },
     "execution_count": 18,
     "metadata": {},
     "output_type": "execute_result"
    }
   ],
   "source": [
    "data[data.bhk>20]"
   ]
  },
  {
   "cell_type": "code",
   "execution_count": null,
   "id": "d8792e13",
   "metadata": {
    "execution": {
     "iopub.execute_input": "2024-03-04T16:50:45.011709Z",
     "iopub.status.busy": "2024-03-04T16:50:45.010915Z",
     "iopub.status.idle": "2024-03-04T16:50:45.019965Z",
     "shell.execute_reply": "2024-03-04T16:50:45.018718Z"
    },
    "id": "8g1oZL4UQe0c",
    "outputId": "694946a6-1aa0-4e93-bd21-d66995e90efd",
    "papermill": {
     "duration": 0.043178,
     "end_time": "2024-03-04T16:50:45.022591",
     "exception": false,
     "start_time": "2024-03-04T16:50:44.979413",
     "status": "completed"
    },
    "tags": []
   },
   "outputs": [
    {
     "data": {
      "text/plain": [
       "array(['1056', '2600', '1440', ..., '1133 - 1384', '774', '4689'],\n",
       "      dtype=object)"
      ]
     },
     "execution_count": 19,
     "metadata": {},
     "output_type": "execute_result"
    }
   ],
   "source": [
    "data['total_sqft'].unique()"
   ]
  },
  {
   "cell_type": "code",
   "execution_count": null,
   "id": "476cf39e",
   "metadata": {
    "execution": {
     "iopub.execute_input": "2024-03-04T16:50:45.087501Z",
     "iopub.status.busy": "2024-03-04T16:50:45.085884Z",
     "iopub.status.idle": "2024-03-04T16:50:45.095223Z",
     "shell.execute_reply": "2024-03-04T16:50:45.093543Z"
    },
    "id": "hDrW26W3QkoO",
    "papermill": {
     "duration": 0.045015,
     "end_time": "2024-03-04T16:50:45.098818",
     "exception": false,
     "start_time": "2024-03-04T16:50:45.053803",
     "status": "completed"
    },
    "tags": []
   },
   "outputs": [],
   "source": [
    "def convertRange(x):\n",
    "  temp = x.split('-')\n",
    "  if len(temp)==2:\n",
    "    return (float(temp[0])+float(temp[1]))/2\n",
    "  try:\n",
    "    return float(x)\n",
    "  except:\n",
    "    return None"
   ]
  },
  {
   "cell_type": "code",
   "execution_count": null,
   "id": "c53ee373",
   "metadata": {
    "execution": {
     "iopub.execute_input": "2024-03-04T16:50:45.162188Z",
     "iopub.status.busy": "2024-03-04T16:50:45.161277Z",
     "iopub.status.idle": "2024-03-04T16:50:45.182241Z",
     "shell.execute_reply": "2024-03-04T16:50:45.180529Z"
    },
    "id": "_F1h0KB5RYMi",
    "papermill": {
     "duration": 0.05633,
     "end_time": "2024-03-04T16:50:45.185157",
     "exception": false,
     "start_time": "2024-03-04T16:50:45.128827",
     "status": "completed"
    },
    "tags": []
   },
   "outputs": [],
   "source": [
    "data['total_sqft']=data['total_sqft'].apply(convertRange)"
   ]
  },
  {
   "cell_type": "code",
   "execution_count": null,
   "id": "b0c96fc0",
   "metadata": {
    "execution": {
     "iopub.execute_input": "2024-03-04T16:50:45.247317Z",
     "iopub.status.busy": "2024-03-04T16:50:45.246839Z",
     "iopub.status.idle": "2024-03-04T16:50:45.262348Z",
     "shell.execute_reply": "2024-03-04T16:50:45.261283Z"
    },
    "id": "Aj8gZLjyRvkf",
    "outputId": "31d052b3-fd89-4428-ab7c-d66aaf0e72ef",
    "papermill": {
     "duration": 0.049349,
     "end_time": "2024-03-04T16:50:45.264853",
     "exception": false,
     "start_time": "2024-03-04T16:50:45.215504",
     "status": "completed"
    },
    "tags": []
   },
   "outputs": [
    {
     "data": {
      "text/html": [
       "<div>\n",
       "<style scoped>\n",
       "    .dataframe tbody tr th:only-of-type {\n",
       "        vertical-align: middle;\n",
       "    }\n",
       "\n",
       "    .dataframe tbody tr th {\n",
       "        vertical-align: top;\n",
       "    }\n",
       "\n",
       "    .dataframe thead th {\n",
       "        text-align: right;\n",
       "    }\n",
       "</style>\n",
       "<table border=\"1\" class=\"dataframe\">\n",
       "  <thead>\n",
       "    <tr style=\"text-align: right;\">\n",
       "      <th></th>\n",
       "      <th>location</th>\n",
       "      <th>size</th>\n",
       "      <th>total_sqft</th>\n",
       "      <th>bath</th>\n",
       "      <th>price</th>\n",
       "      <th>bhk</th>\n",
       "    </tr>\n",
       "  </thead>\n",
       "  <tbody>\n",
       "    <tr>\n",
       "      <th>0</th>\n",
       "      <td>Electronic City Phase II</td>\n",
       "      <td>2 BHK</td>\n",
       "      <td>1056.0</td>\n",
       "      <td>2.0</td>\n",
       "      <td>39.07</td>\n",
       "      <td>2</td>\n",
       "    </tr>\n",
       "    <tr>\n",
       "      <th>1</th>\n",
       "      <td>Chikka Tirupathi</td>\n",
       "      <td>4 Bedroom</td>\n",
       "      <td>2600.0</td>\n",
       "      <td>5.0</td>\n",
       "      <td>120.00</td>\n",
       "      <td>4</td>\n",
       "    </tr>\n",
       "    <tr>\n",
       "      <th>2</th>\n",
       "      <td>Uttarahalli</td>\n",
       "      <td>3 BHK</td>\n",
       "      <td>1440.0</td>\n",
       "      <td>2.0</td>\n",
       "      <td>62.00</td>\n",
       "      <td>3</td>\n",
       "    </tr>\n",
       "    <tr>\n",
       "      <th>3</th>\n",
       "      <td>Lingadheeranahalli</td>\n",
       "      <td>3 BHK</td>\n",
       "      <td>1521.0</td>\n",
       "      <td>3.0</td>\n",
       "      <td>95.00</td>\n",
       "      <td>3</td>\n",
       "    </tr>\n",
       "    <tr>\n",
       "      <th>4</th>\n",
       "      <td>Kothanur</td>\n",
       "      <td>2 BHK</td>\n",
       "      <td>1200.0</td>\n",
       "      <td>2.0</td>\n",
       "      <td>51.00</td>\n",
       "      <td>2</td>\n",
       "    </tr>\n",
       "  </tbody>\n",
       "</table>\n",
       "</div>"
      ],
      "text/plain": [
       "                   location       size  total_sqft  bath   price  bhk\n",
       "0  Electronic City Phase II      2 BHK      1056.0   2.0   39.07    2\n",
       "1          Chikka Tirupathi  4 Bedroom      2600.0   5.0  120.00    4\n",
       "2               Uttarahalli      3 BHK      1440.0   2.0   62.00    3\n",
       "3        Lingadheeranahalli      3 BHK      1521.0   3.0   95.00    3\n",
       "4                  Kothanur      2 BHK      1200.0   2.0   51.00    2"
      ]
     },
     "execution_count": 22,
     "metadata": {},
     "output_type": "execute_result"
    }
   ],
   "source": [
    "data.head()"
   ]
  },
  {
   "cell_type": "code",
   "execution_count": null,
   "id": "c4850506",
   "metadata": {
    "execution": {
     "iopub.execute_input": "2024-03-04T16:50:45.329357Z",
     "iopub.status.busy": "2024-03-04T16:50:45.328695Z",
     "iopub.status.idle": "2024-03-04T16:50:45.336113Z",
     "shell.execute_reply": "2024-03-04T16:50:45.334905Z"
    },
    "id": "Ypxib6VHRxmn",
    "papermill": {
     "duration": 0.04219,
     "end_time": "2024-03-04T16:50:45.338850",
     "exception": false,
     "start_time": "2024-03-04T16:50:45.296660",
     "status": "completed"
    },
    "tags": []
   },
   "outputs": [],
   "source": [
    "# Price per square Feet :\n",
    "data['Price_per_square_feet'] = data['price']*100000 / data['total_sqft']"
   ]
  },
  {
   "cell_type": "code",
   "execution_count": null,
   "id": "a3b8406e",
   "metadata": {
    "execution": {
     "iopub.execute_input": "2024-03-04T16:50:45.400699Z",
     "iopub.status.busy": "2024-03-04T16:50:45.399739Z",
     "iopub.status.idle": "2024-03-04T16:50:45.409847Z",
     "shell.execute_reply": "2024-03-04T16:50:45.408583Z"
    },
    "id": "83xxpcS1U1l9",
    "outputId": "b1871196-1877-4fd0-91bd-ade13670c703",
    "papermill": {
     "duration": 0.044657,
     "end_time": "2024-03-04T16:50:45.412575",
     "exception": false,
     "start_time": "2024-03-04T16:50:45.367918",
     "status": "completed"
    },
    "tags": []
   },
   "outputs": [
    {
     "data": {
      "text/plain": [
       "0         3699.810606\n",
       "1         4615.384615\n",
       "2         4305.555556\n",
       "3         6245.890861\n",
       "4         4250.000000\n",
       "             ...     \n",
       "13315     6689.834926\n",
       "13316    11111.111111\n",
       "13317     5258.545136\n",
       "13318    10407.336319\n",
       "13319     3090.909091\n",
       "Name: Price_per_square_feet, Length: 13320, dtype: float64"
      ]
     },
     "execution_count": 24,
     "metadata": {},
     "output_type": "execute_result"
    }
   ],
   "source": [
    "data['Price_per_square_feet']"
   ]
  },
  {
   "cell_type": "code",
   "execution_count": null,
   "id": "a3227068",
   "metadata": {
    "execution": {
     "iopub.execute_input": "2024-03-04T16:50:45.472638Z",
     "iopub.status.busy": "2024-03-04T16:50:45.471447Z",
     "iopub.status.idle": "2024-03-04T16:50:45.501811Z",
     "shell.execute_reply": "2024-03-04T16:50:45.500659Z"
    },
    "id": "eC8lwbi0U29p",
    "outputId": "15847a22-f025-4518-831b-39fd86196044",
    "papermill": {
     "duration": 0.062907,
     "end_time": "2024-03-04T16:50:45.504283",
     "exception": false,
     "start_time": "2024-03-04T16:50:45.441376",
     "status": "completed"
    },
    "tags": []
   },
   "outputs": [
    {
     "data": {
      "text/html": [
       "<div>\n",
       "<style scoped>\n",
       "    .dataframe tbody tr th:only-of-type {\n",
       "        vertical-align: middle;\n",
       "    }\n",
       "\n",
       "    .dataframe tbody tr th {\n",
       "        vertical-align: top;\n",
       "    }\n",
       "\n",
       "    .dataframe thead th {\n",
       "        text-align: right;\n",
       "    }\n",
       "</style>\n",
       "<table border=\"1\" class=\"dataframe\">\n",
       "  <thead>\n",
       "    <tr style=\"text-align: right;\">\n",
       "      <th></th>\n",
       "      <th>total_sqft</th>\n",
       "      <th>bath</th>\n",
       "      <th>price</th>\n",
       "      <th>bhk</th>\n",
       "      <th>Price_per_square_feet</th>\n",
       "    </tr>\n",
       "  </thead>\n",
       "  <tbody>\n",
       "    <tr>\n",
       "      <th>count</th>\n",
       "      <td>13274.000000</td>\n",
       "      <td>13320.000000</td>\n",
       "      <td>13320.000000</td>\n",
       "      <td>13320.000000</td>\n",
       "      <td>1.327400e+04</td>\n",
       "    </tr>\n",
       "    <tr>\n",
       "      <th>mean</th>\n",
       "      <td>1559.626694</td>\n",
       "      <td>2.688814</td>\n",
       "      <td>112.565627</td>\n",
       "      <td>2.802778</td>\n",
       "      <td>7.907501e+03</td>\n",
       "    </tr>\n",
       "    <tr>\n",
       "      <th>std</th>\n",
       "      <td>1238.405258</td>\n",
       "      <td>1.338754</td>\n",
       "      <td>148.971674</td>\n",
       "      <td>1.294496</td>\n",
       "      <td>1.064296e+05</td>\n",
       "    </tr>\n",
       "    <tr>\n",
       "      <th>min</th>\n",
       "      <td>1.000000</td>\n",
       "      <td>1.000000</td>\n",
       "      <td>8.000000</td>\n",
       "      <td>1.000000</td>\n",
       "      <td>2.678298e+02</td>\n",
       "    </tr>\n",
       "    <tr>\n",
       "      <th>25%</th>\n",
       "      <td>1100.000000</td>\n",
       "      <td>2.000000</td>\n",
       "      <td>50.000000</td>\n",
       "      <td>2.000000</td>\n",
       "      <td>4.266865e+03</td>\n",
       "    </tr>\n",
       "    <tr>\n",
       "      <th>50%</th>\n",
       "      <td>1276.000000</td>\n",
       "      <td>2.000000</td>\n",
       "      <td>72.000000</td>\n",
       "      <td>3.000000</td>\n",
       "      <td>5.434306e+03</td>\n",
       "    </tr>\n",
       "    <tr>\n",
       "      <th>75%</th>\n",
       "      <td>1680.000000</td>\n",
       "      <td>3.000000</td>\n",
       "      <td>120.000000</td>\n",
       "      <td>3.000000</td>\n",
       "      <td>7.311746e+03</td>\n",
       "    </tr>\n",
       "    <tr>\n",
       "      <th>max</th>\n",
       "      <td>52272.000000</td>\n",
       "      <td>40.000000</td>\n",
       "      <td>3600.000000</td>\n",
       "      <td>43.000000</td>\n",
       "      <td>1.200000e+07</td>\n",
       "    </tr>\n",
       "  </tbody>\n",
       "</table>\n",
       "</div>"
      ],
      "text/plain": [
       "         total_sqft          bath         price           bhk  \\\n",
       "count  13274.000000  13320.000000  13320.000000  13320.000000   \n",
       "mean    1559.626694      2.688814    112.565627      2.802778   \n",
       "std     1238.405258      1.338754    148.971674      1.294496   \n",
       "min        1.000000      1.000000      8.000000      1.000000   \n",
       "25%     1100.000000      2.000000     50.000000      2.000000   \n",
       "50%     1276.000000      2.000000     72.000000      3.000000   \n",
       "75%     1680.000000      3.000000    120.000000      3.000000   \n",
       "max    52272.000000     40.000000   3600.000000     43.000000   \n",
       "\n",
       "       Price_per_square_feet  \n",
       "count           1.327400e+04  \n",
       "mean            7.907501e+03  \n",
       "std             1.064296e+05  \n",
       "min             2.678298e+02  \n",
       "25%             4.266865e+03  \n",
       "50%             5.434306e+03  \n",
       "75%             7.311746e+03  \n",
       "max             1.200000e+07  "
      ]
     },
     "execution_count": 25,
     "metadata": {},
     "output_type": "execute_result"
    }
   ],
   "source": [
    "data.describe()"
   ]
  },
  {
   "cell_type": "code",
   "execution_count": null,
   "id": "ea5cf8c2",
   "metadata": {
    "execution": {
     "iopub.execute_input": "2024-03-04T16:50:45.566599Z",
     "iopub.status.busy": "2024-03-04T16:50:45.565384Z",
     "iopub.status.idle": "2024-03-04T16:50:45.578233Z",
     "shell.execute_reply": "2024-03-04T16:50:45.577034Z"
    },
    "id": "E_1veI8xU8wY",
    "outputId": "263f25c4-fe51-48f1-ffe4-cf3f96e2c50c",
    "papermill": {
     "duration": 0.046958,
     "end_time": "2024-03-04T16:50:45.581315",
     "exception": false,
     "start_time": "2024-03-04T16:50:45.534357",
     "status": "completed"
    },
    "tags": []
   },
   "outputs": [
    {
     "data": {
      "text/plain": [
       "location\n",
       "Whitefield                        540\n",
       "Sarjapur  Road                    400\n",
       "Electronic City                   302\n",
       "Kanakpura Road                    273\n",
       "Thanisandra                       234\n",
       "                                 ... \n",
       "Bapuji Layout                       1\n",
       "1st Stage Radha Krishna Layout      1\n",
       "BEML Layout 5th stage               1\n",
       "singapura paradise                  1\n",
       "Abshot Layout                       1\n",
       "Name: count, Length: 1305, dtype: int64"
      ]
     },
     "execution_count": 26,
     "metadata": {},
     "output_type": "execute_result"
    }
   ],
   "source": [
    "data['location'].value_counts()"
   ]
  },
  {
   "cell_type": "code",
   "execution_count": null,
   "id": "a62c0799",
   "metadata": {
    "execution": {
     "iopub.execute_input": "2024-03-04T16:50:45.641624Z",
     "iopub.status.busy": "2024-03-04T16:50:45.641235Z",
     "iopub.status.idle": "2024-03-04T16:50:45.656097Z",
     "shell.execute_reply": "2024-03-04T16:50:45.654685Z"
    },
    "id": "xnNHFF_zVCPg",
    "papermill": {
     "duration": 0.048903,
     "end_time": "2024-03-04T16:50:45.659755",
     "exception": false,
     "start_time": "2024-03-04T16:50:45.610852",
     "status": "completed"
    },
    "tags": []
   },
   "outputs": [],
   "source": [
    "data['location'] = data['location'].apply(lambda x: x.strip())\n",
    "location_count = data['location'].value_counts()"
   ]
  },
  {
   "cell_type": "code",
   "execution_count": null,
   "id": "8eaf735a",
   "metadata": {
    "execution": {
     "iopub.execute_input": "2024-03-04T16:50:45.720743Z",
     "iopub.status.busy": "2024-03-04T16:50:45.719493Z",
     "iopub.status.idle": "2024-03-04T16:50:45.729137Z",
     "shell.execute_reply": "2024-03-04T16:50:45.727869Z"
    },
    "id": "D4WC4dx4VugU",
    "outputId": "34ead850-5968-4c8e-ab73-05402130ff1e",
    "papermill": {
     "duration": 0.042696,
     "end_time": "2024-03-04T16:50:45.731741",
     "exception": false,
     "start_time": "2024-03-04T16:50:45.689045",
     "status": "completed"
    },
    "tags": []
   },
   "outputs": [
    {
     "data": {
      "text/plain": [
       "location\n",
       "Whitefield                        541\n",
       "Sarjapur  Road                    400\n",
       "Electronic City                   304\n",
       "Kanakpura Road                    273\n",
       "Thanisandra                       237\n",
       "                                 ... \n",
       "Bapuji Layout                       1\n",
       "1st Stage Radha Krishna Layout      1\n",
       "BEML Layout 5th stage               1\n",
       "singapura paradise                  1\n",
       "Abshot Layout                       1\n",
       "Name: count, Length: 1294, dtype: int64"
      ]
     },
     "execution_count": 28,
     "metadata": {},
     "output_type": "execute_result"
    }
   ],
   "source": [
    "location_count"
   ]
  },
  {
   "cell_type": "code",
   "execution_count": null,
   "id": "e3cfefaf",
   "metadata": {
    "execution": {
     "iopub.execute_input": "2024-03-04T16:50:45.794637Z",
     "iopub.status.busy": "2024-03-04T16:50:45.793198Z",
     "iopub.status.idle": "2024-03-04T16:50:45.803744Z",
     "shell.execute_reply": "2024-03-04T16:50:45.802793Z"
    },
    "id": "_t-XQhd9VywR",
    "outputId": "21d44631-82cf-4171-dec0-c72807459db9",
    "papermill": {
     "duration": 0.043768,
     "end_time": "2024-03-04T16:50:45.806018",
     "exception": false,
     "start_time": "2024-03-04T16:50:45.762250",
     "status": "completed"
    },
    "tags": []
   },
   "outputs": [
    {
     "data": {
      "text/plain": [
       "location\n",
       "Vishwanatha Nagenahalli           9\n",
       "Chennammana Kere                  9\n",
       "2nd Phase JP Nagar                9\n",
       "Jakkur Plantation                 9\n",
       "B Narayanapura                    9\n",
       "                                 ..\n",
       "Bapuji Layout                     1\n",
       "1st Stage Radha Krishna Layout    1\n",
       "BEML Layout 5th stage             1\n",
       "singapura paradise                1\n",
       "Abshot Layout                     1\n",
       "Name: count, Length: 1040, dtype: int64"
      ]
     },
     "execution_count": 29,
     "metadata": {},
     "output_type": "execute_result"
    }
   ],
   "source": [
    "location_count_less_10 = location_count[location_count<10]\n",
    "location_count_less_10"
   ]
  },
  {
   "cell_type": "code",
   "execution_count": null,
   "id": "dca3fc8a",
   "metadata": {
    "execution": {
     "iopub.execute_input": "2024-03-04T16:50:45.868802Z",
     "iopub.status.busy": "2024-03-04T16:50:45.867936Z",
     "iopub.status.idle": "2024-03-04T16:50:45.922040Z",
     "shell.execute_reply": "2024-03-04T16:50:45.920414Z"
    },
    "id": "4lRCGQetWFG9",
    "papermill": {
     "duration": 0.088988,
     "end_time": "2024-03-04T16:50:45.925057",
     "exception": false,
     "start_time": "2024-03-04T16:50:45.836069",
     "status": "completed"
    },
    "tags": []
   },
   "outputs": [],
   "source": [
    "data['location'] = data['location'].apply(lambda x: 'other' if x in location_count_less_10 else x)"
   ]
  },
  {
   "cell_type": "code",
   "execution_count": null,
   "id": "5e0c893a",
   "metadata": {
    "execution": {
     "iopub.execute_input": "2024-03-04T16:50:45.987498Z",
     "iopub.status.busy": "2024-03-04T16:50:45.987092Z",
     "iopub.status.idle": "2024-03-04T16:50:45.999014Z",
     "shell.execute_reply": "2024-03-04T16:50:45.997791Z"
    },
    "id": "BKzjKEMGWZ1A",
    "outputId": "c88c88dd-30a3-4cc0-d559-e4f0b3caf537",
    "papermill": {
     "duration": 0.046554,
     "end_time": "2024-03-04T16:50:46.002131",
     "exception": false,
     "start_time": "2024-03-04T16:50:45.955577",
     "status": "completed"
    },
    "tags": []
   },
   "outputs": [
    {
     "data": {
      "text/plain": [
       "location\n",
       "other                  2755\n",
       "Whitefield              541\n",
       "Sarjapur  Road          400\n",
       "Electronic City         304\n",
       "Kanakpura Road          273\n",
       "                       ... \n",
       "BTM 1st Stage            10\n",
       "Basapura                 10\n",
       "Sector 1 HSR Layout      10\n",
       "Kalkere                  10\n",
       "Nagadevanahalli          10\n",
       "Name: count, Length: 255, dtype: int64"
      ]
     },
     "execution_count": 31,
     "metadata": {},
     "output_type": "execute_result"
    }
   ],
   "source": [
    "data['location'].value_counts()"
   ]
  },
  {
   "cell_type": "code",
   "execution_count": null,
   "id": "e638e44f",
   "metadata": {
    "execution": {
     "iopub.execute_input": "2024-03-04T16:50:46.069574Z",
     "iopub.status.busy": "2024-03-04T16:50:46.068621Z",
     "iopub.status.idle": "2024-03-04T16:50:46.110183Z",
     "shell.execute_reply": "2024-03-04T16:50:46.108718Z"
    },
    "id": "8mQ06yRvWjR4",
    "outputId": "607426bd-f73a-4516-f82a-b7a6578c982f",
    "papermill": {
     "duration": 0.080586,
     "end_time": "2024-03-04T16:50:46.113476",
     "exception": false,
     "start_time": "2024-03-04T16:50:46.032890",
     "status": "completed"
    },
    "tags": []
   },
   "outputs": [
    {
     "data": {
      "text/html": [
       "<div>\n",
       "<style scoped>\n",
       "    .dataframe tbody tr th:only-of-type {\n",
       "        vertical-align: middle;\n",
       "    }\n",
       "\n",
       "    .dataframe tbody tr th {\n",
       "        vertical-align: top;\n",
       "    }\n",
       "\n",
       "    .dataframe thead th {\n",
       "        text-align: right;\n",
       "    }\n",
       "</style>\n",
       "<table border=\"1\" class=\"dataframe\">\n",
       "  <thead>\n",
       "    <tr style=\"text-align: right;\">\n",
       "      <th></th>\n",
       "      <th>total_sqft</th>\n",
       "      <th>bath</th>\n",
       "      <th>price</th>\n",
       "      <th>bhk</th>\n",
       "      <th>Price_per_square_feet</th>\n",
       "    </tr>\n",
       "  </thead>\n",
       "  <tbody>\n",
       "    <tr>\n",
       "      <th>count</th>\n",
       "      <td>13274.000000</td>\n",
       "      <td>13320.000000</td>\n",
       "      <td>13320.000000</td>\n",
       "      <td>13320.000000</td>\n",
       "      <td>1.327400e+04</td>\n",
       "    </tr>\n",
       "    <tr>\n",
       "      <th>mean</th>\n",
       "      <td>1559.626694</td>\n",
       "      <td>2.688814</td>\n",
       "      <td>112.565627</td>\n",
       "      <td>2.802778</td>\n",
       "      <td>7.907501e+03</td>\n",
       "    </tr>\n",
       "    <tr>\n",
       "      <th>std</th>\n",
       "      <td>1238.405258</td>\n",
       "      <td>1.338754</td>\n",
       "      <td>148.971674</td>\n",
       "      <td>1.294496</td>\n",
       "      <td>1.064296e+05</td>\n",
       "    </tr>\n",
       "    <tr>\n",
       "      <th>min</th>\n",
       "      <td>1.000000</td>\n",
       "      <td>1.000000</td>\n",
       "      <td>8.000000</td>\n",
       "      <td>1.000000</td>\n",
       "      <td>2.678298e+02</td>\n",
       "    </tr>\n",
       "    <tr>\n",
       "      <th>25%</th>\n",
       "      <td>1100.000000</td>\n",
       "      <td>2.000000</td>\n",
       "      <td>50.000000</td>\n",
       "      <td>2.000000</td>\n",
       "      <td>4.266865e+03</td>\n",
       "    </tr>\n",
       "    <tr>\n",
       "      <th>50%</th>\n",
       "      <td>1276.000000</td>\n",
       "      <td>2.000000</td>\n",
       "      <td>72.000000</td>\n",
       "      <td>3.000000</td>\n",
       "      <td>5.434306e+03</td>\n",
       "    </tr>\n",
       "    <tr>\n",
       "      <th>75%</th>\n",
       "      <td>1680.000000</td>\n",
       "      <td>3.000000</td>\n",
       "      <td>120.000000</td>\n",
       "      <td>3.000000</td>\n",
       "      <td>7.311746e+03</td>\n",
       "    </tr>\n",
       "    <tr>\n",
       "      <th>max</th>\n",
       "      <td>52272.000000</td>\n",
       "      <td>40.000000</td>\n",
       "      <td>3600.000000</td>\n",
       "      <td>43.000000</td>\n",
       "      <td>1.200000e+07</td>\n",
       "    </tr>\n",
       "  </tbody>\n",
       "</table>\n",
       "</div>"
      ],
      "text/plain": [
       "         total_sqft          bath         price           bhk  \\\n",
       "count  13274.000000  13320.000000  13320.000000  13320.000000   \n",
       "mean    1559.626694      2.688814    112.565627      2.802778   \n",
       "std     1238.405258      1.338754    148.971674      1.294496   \n",
       "min        1.000000      1.000000      8.000000      1.000000   \n",
       "25%     1100.000000      2.000000     50.000000      2.000000   \n",
       "50%     1276.000000      2.000000     72.000000      3.000000   \n",
       "75%     1680.000000      3.000000    120.000000      3.000000   \n",
       "max    52272.000000     40.000000   3600.000000     43.000000   \n",
       "\n",
       "       Price_per_square_feet  \n",
       "count           1.327400e+04  \n",
       "mean            7.907501e+03  \n",
       "std             1.064296e+05  \n",
       "min             2.678298e+02  \n",
       "25%             4.266865e+03  \n",
       "50%             5.434306e+03  \n",
       "75%             7.311746e+03  \n",
       "max             1.200000e+07  "
      ]
     },
     "execution_count": 32,
     "metadata": {},
     "output_type": "execute_result"
    }
   ],
   "source": [
    "# Outlier detection and Removal :\n",
    "data.describe()"
   ]
  },
  {
   "cell_type": "code",
   "execution_count": null,
   "id": "0160b13a",
   "metadata": {
    "execution": {
     "iopub.execute_input": "2024-03-04T16:50:46.194530Z",
     "iopub.status.busy": "2024-03-04T16:50:46.193568Z",
     "iopub.status.idle": "2024-03-04T16:50:46.209980Z",
     "shell.execute_reply": "2024-03-04T16:50:46.209070Z"
    },
    "id": "Tye_aUNAW2eQ",
    "outputId": "bc954221-9da3-408a-f2e1-a538714725f0",
    "papermill": {
     "duration": 0.063835,
     "end_time": "2024-03-04T16:50:46.213839",
     "exception": false,
     "start_time": "2024-03-04T16:50:46.150004",
     "status": "completed"
    },
    "tags": []
   },
   "outputs": [
    {
     "data": {
      "text/plain": [
       "count    13274.000000\n",
       "mean       575.074878\n",
       "std        388.205175\n",
       "min          0.250000\n",
       "25%        473.333333\n",
       "50%        552.500000\n",
       "75%        625.000000\n",
       "max      26136.000000\n",
       "dtype: float64"
      ]
     },
     "execution_count": 33,
     "metadata": {},
     "output_type": "execute_result"
    }
   ],
   "source": [
    "(data['total_sqft']/data['bhk']).describe()"
   ]
  },
  {
   "cell_type": "code",
   "execution_count": null,
   "id": "fc032d7c",
   "metadata": {
    "execution": {
     "iopub.execute_input": "2024-03-04T16:50:46.278848Z",
     "iopub.status.busy": "2024-03-04T16:50:46.278141Z",
     "iopub.status.idle": "2024-03-04T16:50:46.313401Z",
     "shell.execute_reply": "2024-03-04T16:50:46.311734Z"
    },
    "id": "F4GURqQ_XBXK",
    "outputId": "2bdf824a-0648-4569-a069-fa4fb69fa2aa",
    "papermill": {
     "duration": 0.070341,
     "end_time": "2024-03-04T16:50:46.316359",
     "exception": false,
     "start_time": "2024-03-04T16:50:46.246018",
     "status": "completed"
    },
    "tags": []
   },
   "outputs": [
    {
     "data": {
      "text/html": [
       "<div>\n",
       "<style scoped>\n",
       "    .dataframe tbody tr th:only-of-type {\n",
       "        vertical-align: middle;\n",
       "    }\n",
       "\n",
       "    .dataframe tbody tr th {\n",
       "        vertical-align: top;\n",
       "    }\n",
       "\n",
       "    .dataframe thead th {\n",
       "        text-align: right;\n",
       "    }\n",
       "</style>\n",
       "<table border=\"1\" class=\"dataframe\">\n",
       "  <thead>\n",
       "    <tr style=\"text-align: right;\">\n",
       "      <th></th>\n",
       "      <th>total_sqft</th>\n",
       "      <th>bath</th>\n",
       "      <th>price</th>\n",
       "      <th>bhk</th>\n",
       "      <th>Price_per_square_feet</th>\n",
       "    </tr>\n",
       "  </thead>\n",
       "  <tbody>\n",
       "    <tr>\n",
       "      <th>count</th>\n",
       "      <td>12530.000000</td>\n",
       "      <td>12530.000000</td>\n",
       "      <td>12530.000000</td>\n",
       "      <td>12530.000000</td>\n",
       "      <td>12530.000000</td>\n",
       "    </tr>\n",
       "    <tr>\n",
       "      <th>mean</th>\n",
       "      <td>1594.564544</td>\n",
       "      <td>2.559537</td>\n",
       "      <td>111.382401</td>\n",
       "      <td>2.650838</td>\n",
       "      <td>6303.979357</td>\n",
       "    </tr>\n",
       "    <tr>\n",
       "      <th>std</th>\n",
       "      <td>1261.271296</td>\n",
       "      <td>1.077938</td>\n",
       "      <td>152.077329</td>\n",
       "      <td>0.976678</td>\n",
       "      <td>4162.237981</td>\n",
       "    </tr>\n",
       "    <tr>\n",
       "      <th>min</th>\n",
       "      <td>300.000000</td>\n",
       "      <td>1.000000</td>\n",
       "      <td>8.440000</td>\n",
       "      <td>1.000000</td>\n",
       "      <td>267.829813</td>\n",
       "    </tr>\n",
       "    <tr>\n",
       "      <th>25%</th>\n",
       "      <td>1116.000000</td>\n",
       "      <td>2.000000</td>\n",
       "      <td>49.000000</td>\n",
       "      <td>2.000000</td>\n",
       "      <td>4210.526316</td>\n",
       "    </tr>\n",
       "    <tr>\n",
       "      <th>50%</th>\n",
       "      <td>1300.000000</td>\n",
       "      <td>2.000000</td>\n",
       "      <td>70.000000</td>\n",
       "      <td>3.000000</td>\n",
       "      <td>5294.117647</td>\n",
       "    </tr>\n",
       "    <tr>\n",
       "      <th>75%</th>\n",
       "      <td>1700.000000</td>\n",
       "      <td>3.000000</td>\n",
       "      <td>115.000000</td>\n",
       "      <td>3.000000</td>\n",
       "      <td>6916.666667</td>\n",
       "    </tr>\n",
       "    <tr>\n",
       "      <th>max</th>\n",
       "      <td>52272.000000</td>\n",
       "      <td>16.000000</td>\n",
       "      <td>3600.000000</td>\n",
       "      <td>16.000000</td>\n",
       "      <td>176470.588235</td>\n",
       "    </tr>\n",
       "  </tbody>\n",
       "</table>\n",
       "</div>"
      ],
      "text/plain": [
       "         total_sqft          bath         price           bhk  \\\n",
       "count  12530.000000  12530.000000  12530.000000  12530.000000   \n",
       "mean    1594.564544      2.559537    111.382401      2.650838   \n",
       "std     1261.271296      1.077938    152.077329      0.976678   \n",
       "min      300.000000      1.000000      8.440000      1.000000   \n",
       "25%     1116.000000      2.000000     49.000000      2.000000   \n",
       "50%     1300.000000      2.000000     70.000000      3.000000   \n",
       "75%     1700.000000      3.000000    115.000000      3.000000   \n",
       "max    52272.000000     16.000000   3600.000000     16.000000   \n",
       "\n",
       "       Price_per_square_feet  \n",
       "count           12530.000000  \n",
       "mean             6303.979357  \n",
       "std              4162.237981  \n",
       "min               267.829813  \n",
       "25%              4210.526316  \n",
       "50%              5294.117647  \n",
       "75%              6916.666667  \n",
       "max            176470.588235  "
      ]
     },
     "execution_count": 34,
     "metadata": {},
     "output_type": "execute_result"
    }
   ],
   "source": [
    "data = data[((data['total_sqft']/data['bhk'])>=300)]\n",
    "data.describe()"
   ]
  },
  {
   "cell_type": "code",
   "execution_count": null,
   "id": "8e5d7b5f",
   "metadata": {
    "execution": {
     "iopub.execute_input": "2024-03-04T16:50:46.381615Z",
     "iopub.status.busy": "2024-03-04T16:50:46.380918Z",
     "iopub.status.idle": "2024-03-04T16:50:46.387759Z",
     "shell.execute_reply": "2024-03-04T16:50:46.385769Z"
    },
    "id": "ezzrhriuXlLy",
    "outputId": "baecae29-1ffd-4a01-f1ae-36a43a37655b",
    "papermill": {
     "duration": 0.042769,
     "end_time": "2024-03-04T16:50:46.390687",
     "exception": false,
     "start_time": "2024-03-04T16:50:46.347918",
     "status": "completed"
    },
    "tags": []
   },
   "outputs": [
    {
     "data": {
      "text/plain": [
       "(12530, 7)"
      ]
     },
     "execution_count": 35,
     "metadata": {},
     "output_type": "execute_result"
    }
   ],
   "source": [
    "data.shape"
   ]
  },
  {
   "cell_type": "code",
   "execution_count": null,
   "id": "c6ac91a6",
   "metadata": {
    "execution": {
     "iopub.execute_input": "2024-03-04T16:50:46.465072Z",
     "iopub.status.busy": "2024-03-04T16:50:46.464655Z",
     "iopub.status.idle": "2024-03-04T16:50:46.476083Z",
     "shell.execute_reply": "2024-03-04T16:50:46.475182Z"
    },
    "id": "My7DGPIDXoz9",
    "outputId": "13e435f9-7a31-4c6a-e005-9f2f3fab6913",
    "papermill": {
     "duration": 0.050878,
     "end_time": "2024-03-04T16:50:46.478765",
     "exception": false,
     "start_time": "2024-03-04T16:50:46.427887",
     "status": "completed"
    },
    "tags": []
   },
   "outputs": [
    {
     "data": {
      "text/plain": [
       "count     12530.000000\n",
       "mean       6303.979357\n",
       "std        4162.237981\n",
       "min         267.829813\n",
       "25%        4210.526316\n",
       "50%        5294.117647\n",
       "75%        6916.666667\n",
       "max      176470.588235\n",
       "Name: Price_per_square_feet, dtype: float64"
      ]
     },
     "execution_count": 36,
     "metadata": {},
     "output_type": "execute_result"
    }
   ],
   "source": [
    "data.Price_per_square_feet.describe()"
   ]
  },
  {
   "cell_type": "code",
   "execution_count": null,
   "id": "c851603e",
   "metadata": {
    "execution": {
     "iopub.execute_input": "2024-03-04T16:50:46.550469Z",
     "iopub.status.busy": "2024-03-04T16:50:46.549507Z",
     "iopub.status.idle": "2024-03-04T16:50:47.019124Z",
     "shell.execute_reply": "2024-03-04T16:50:47.017796Z"
    },
    "id": "vqHZuD0OXyvo",
    "papermill": {
     "duration": 0.50718,
     "end_time": "2024-03-04T16:50:47.022045",
     "exception": false,
     "start_time": "2024-03-04T16:50:46.514865",
     "status": "completed"
    },
    "tags": []
   },
   "outputs": [],
   "source": [
    "def remove_outliers_sqft(df):\n",
    "  df_output = pd.DataFrame()\n",
    "  for key,subdf in df.groupby('location'):\n",
    "    m = np.mean(subdf.Price_per_square_feet)\n",
    "    st = np.std(subdf.Price_per_square_feet)\n",
    "\n",
    "    gen_df = subdf[(subdf.Price_per_square_feet > (m-st))&(subdf.Price_per_square_feet <= (m+st))]\n",
    "    df_output = pd.concat([df_output,gen_df],ignore_index = True)\n",
    "  return df_output\n",
    "data = remove_outliers_sqft(data)"
   ]
  },
  {
   "cell_type": "code",
   "execution_count": null,
   "id": "43191071",
   "metadata": {
    "execution": {
     "iopub.execute_input": "2024-03-04T16:50:47.091092Z",
     "iopub.status.busy": "2024-03-04T16:50:47.090630Z",
     "iopub.status.idle": "2024-03-04T16:50:47.123537Z",
     "shell.execute_reply": "2024-03-04T16:50:47.122101Z"
    },
    "id": "kG9PFLJZgXKJ",
    "outputId": "c3491694-4b60-4986-be11-9ec6bcb10fe8",
    "papermill": {
     "duration": 0.069441,
     "end_time": "2024-03-04T16:50:47.126035",
     "exception": false,
     "start_time": "2024-03-04T16:50:47.056594",
     "status": "completed"
    },
    "tags": []
   },
   "outputs": [
    {
     "data": {
      "text/html": [
       "<div>\n",
       "<style scoped>\n",
       "    .dataframe tbody tr th:only-of-type {\n",
       "        vertical-align: middle;\n",
       "    }\n",
       "\n",
       "    .dataframe tbody tr th {\n",
       "        vertical-align: top;\n",
       "    }\n",
       "\n",
       "    .dataframe thead th {\n",
       "        text-align: right;\n",
       "    }\n",
       "</style>\n",
       "<table border=\"1\" class=\"dataframe\">\n",
       "  <thead>\n",
       "    <tr style=\"text-align: right;\">\n",
       "      <th></th>\n",
       "      <th>total_sqft</th>\n",
       "      <th>bath</th>\n",
       "      <th>price</th>\n",
       "      <th>bhk</th>\n",
       "      <th>Price_per_square_feet</th>\n",
       "    </tr>\n",
       "  </thead>\n",
       "  <tbody>\n",
       "    <tr>\n",
       "      <th>count</th>\n",
       "      <td>10282.000000</td>\n",
       "      <td>10282.000000</td>\n",
       "      <td>10282.000000</td>\n",
       "      <td>10282.000000</td>\n",
       "      <td>10282.000000</td>\n",
       "    </tr>\n",
       "    <tr>\n",
       "      <th>mean</th>\n",
       "      <td>1509.996956</td>\n",
       "      <td>2.474032</td>\n",
       "      <td>91.718675</td>\n",
       "      <td>2.576347</td>\n",
       "      <td>5669.007067</td>\n",
       "    </tr>\n",
       "    <tr>\n",
       "      <th>std</th>\n",
       "      <td>883.210082</td>\n",
       "      <td>0.986908</td>\n",
       "      <td>88.327858</td>\n",
       "      <td>0.900592</td>\n",
       "      <td>2292.794131</td>\n",
       "    </tr>\n",
       "    <tr>\n",
       "      <th>min</th>\n",
       "      <td>300.000000</td>\n",
       "      <td>1.000000</td>\n",
       "      <td>10.000000</td>\n",
       "      <td>1.000000</td>\n",
       "      <td>1250.000000</td>\n",
       "    </tr>\n",
       "    <tr>\n",
       "      <th>25%</th>\n",
       "      <td>1110.000000</td>\n",
       "      <td>2.000000</td>\n",
       "      <td>49.000000</td>\n",
       "      <td>2.000000</td>\n",
       "      <td>4249.917219</td>\n",
       "    </tr>\n",
       "    <tr>\n",
       "      <th>50%</th>\n",
       "      <td>1286.000000</td>\n",
       "      <td>2.000000</td>\n",
       "      <td>67.000000</td>\n",
       "      <td>2.000000</td>\n",
       "      <td>5176.565008</td>\n",
       "    </tr>\n",
       "    <tr>\n",
       "      <th>75%</th>\n",
       "      <td>1650.000000</td>\n",
       "      <td>3.000000</td>\n",
       "      <td>100.000000</td>\n",
       "      <td>3.000000</td>\n",
       "      <td>6431.808627</td>\n",
       "    </tr>\n",
       "    <tr>\n",
       "      <th>max</th>\n",
       "      <td>30400.000000</td>\n",
       "      <td>16.000000</td>\n",
       "      <td>2200.000000</td>\n",
       "      <td>16.000000</td>\n",
       "      <td>24509.803922</td>\n",
       "    </tr>\n",
       "  </tbody>\n",
       "</table>\n",
       "</div>"
      ],
      "text/plain": [
       "         total_sqft          bath         price           bhk  \\\n",
       "count  10282.000000  10282.000000  10282.000000  10282.000000   \n",
       "mean    1509.996956      2.474032     91.718675      2.576347   \n",
       "std      883.210082      0.986908     88.327858      0.900592   \n",
       "min      300.000000      1.000000     10.000000      1.000000   \n",
       "25%     1110.000000      2.000000     49.000000      2.000000   \n",
       "50%     1286.000000      2.000000     67.000000      2.000000   \n",
       "75%     1650.000000      3.000000    100.000000      3.000000   \n",
       "max    30400.000000     16.000000   2200.000000     16.000000   \n",
       "\n",
       "       Price_per_square_feet  \n",
       "count           10282.000000  \n",
       "mean             5669.007067  \n",
       "std              2292.794131  \n",
       "min              1250.000000  \n",
       "25%              4249.917219  \n",
       "50%              5176.565008  \n",
       "75%              6431.808627  \n",
       "max             24509.803922  "
      ]
     },
     "execution_count": 38,
     "metadata": {},
     "output_type": "execute_result"
    }
   ],
   "source": [
    "data.describe()"
   ]
  },
  {
   "cell_type": "code",
   "execution_count": null,
   "id": "48114447",
   "metadata": {
    "execution": {
     "iopub.execute_input": "2024-03-04T16:50:47.195804Z",
     "iopub.status.busy": "2024-03-04T16:50:47.194981Z",
     "iopub.status.idle": "2024-03-04T16:50:47.204037Z",
     "shell.execute_reply": "2024-03-04T16:50:47.202665Z"
    },
    "id": "VhLMtLgMig9u",
    "papermill": {
     "duration": 0.046638,
     "end_time": "2024-03-04T16:50:47.206890",
     "exception": false,
     "start_time": "2024-03-04T16:50:47.160252",
     "status": "completed"
    },
    "tags": []
   },
   "outputs": [],
   "source": [
    "# BHK Outliers :\n",
    "def bhk_outlier_remove(df):\n",
    "  exclude_indices = np.array([])\n",
    "  for location, location_df in df.groupby('location'):\n",
    "    bhk_stats = {}\n",
    "    for bhk,bhk_df in location_df.groupby('bhk'):\n",
    "      bhk_stats[bhk] = {\n",
    "          'mean':np.mean(bhk_df.Price_per_square_feet)\n",
    "          ,'std':np.std(bhk_df.Price_per_square_feet)\n",
    "          ,'count':bhk_df.shape[0]\n",
    "      }\n",
    "    for bhk,bhk_df in location_df.groupby('bhk'):\n",
    "      stats = bhk_stats.get(bhk-1)\n",
    "      if stats and stats['count']>5:\n",
    "        exclude_indices = np.append(exclude_indices,bhk_df[bhk_df.Price_per_square_feet<(stats['mean'])].index.values)\n",
    "    return df.drop(exclude_indices,axis='index')"
   ]
  },
  {
   "cell_type": "code",
   "execution_count": null,
   "id": "cfe57c13",
   "metadata": {
    "execution": {
     "iopub.execute_input": "2024-03-04T16:50:47.274897Z",
     "iopub.status.busy": "2024-03-04T16:50:47.274462Z",
     "iopub.status.idle": "2024-03-04T16:50:47.286885Z",
     "shell.execute_reply": "2024-03-04T16:50:47.285573Z"
    },
    "id": "imheQ_UaFaGA",
    "papermill": {
     "duration": 0.049173,
     "end_time": "2024-03-04T16:50:47.289683",
     "exception": false,
     "start_time": "2024-03-04T16:50:47.240510",
     "status": "completed"
    },
    "tags": []
   },
   "outputs": [],
   "source": [
    "data = bhk_outlier_remove(data)"
   ]
  },
  {
   "cell_type": "code",
   "execution_count": null,
   "id": "fa787256",
   "metadata": {
    "execution": {
     "iopub.execute_input": "2024-03-04T16:50:47.355669Z",
     "iopub.status.busy": "2024-03-04T16:50:47.355261Z",
     "iopub.status.idle": "2024-03-04T16:50:47.363317Z",
     "shell.execute_reply": "2024-03-04T16:50:47.361705Z"
    },
    "id": "w5K2g8wbFioD",
    "outputId": "fbc1a0ba-6349-45c0-99d2-d09b05263c25",
    "papermill": {
     "duration": 0.044153,
     "end_time": "2024-03-04T16:50:47.365808",
     "exception": false,
     "start_time": "2024-03-04T16:50:47.321655",
     "status": "completed"
    },
    "tags": []
   },
   "outputs": [
    {
     "data": {
      "text/plain": [
       "(10282, 7)"
      ]
     },
     "execution_count": 41,
     "metadata": {},
     "output_type": "execute_result"
    }
   ],
   "source": [
    "data.shape"
   ]
  },
  {
   "cell_type": "code",
   "execution_count": null,
   "id": "96345af6",
   "metadata": {
    "execution": {
     "iopub.execute_input": "2024-03-04T16:50:47.435007Z",
     "iopub.status.busy": "2024-03-04T16:50:47.434253Z",
     "iopub.status.idle": "2024-03-04T16:50:47.451751Z",
     "shell.execute_reply": "2024-03-04T16:50:47.450103Z"
    },
    "id": "_cL0wWnwFlCu",
    "outputId": "5333bd01-9c46-4633-fadf-d37504e9032a",
    "papermill": {
     "duration": 0.055563,
     "end_time": "2024-03-04T16:50:47.454852",
     "exception": false,
     "start_time": "2024-03-04T16:50:47.399289",
     "status": "completed"
    },
    "tags": []
   },
   "outputs": [
    {
     "data": {
      "text/html": [
       "<div>\n",
       "<style scoped>\n",
       "    .dataframe tbody tr th:only-of-type {\n",
       "        vertical-align: middle;\n",
       "    }\n",
       "\n",
       "    .dataframe tbody tr th {\n",
       "        vertical-align: top;\n",
       "    }\n",
       "\n",
       "    .dataframe thead th {\n",
       "        text-align: right;\n",
       "    }\n",
       "</style>\n",
       "<table border=\"1\" class=\"dataframe\">\n",
       "  <thead>\n",
       "    <tr style=\"text-align: right;\">\n",
       "      <th></th>\n",
       "      <th>location</th>\n",
       "      <th>size</th>\n",
       "      <th>total_sqft</th>\n",
       "      <th>bath</th>\n",
       "      <th>price</th>\n",
       "      <th>bhk</th>\n",
       "      <th>Price_per_square_feet</th>\n",
       "    </tr>\n",
       "  </thead>\n",
       "  <tbody>\n",
       "    <tr>\n",
       "      <th>0</th>\n",
       "      <td>1st Block Jayanagar</td>\n",
       "      <td>4 BHK</td>\n",
       "      <td>2850.0</td>\n",
       "      <td>4.0</td>\n",
       "      <td>428.0</td>\n",
       "      <td>4</td>\n",
       "      <td>15017.543860</td>\n",
       "    </tr>\n",
       "    <tr>\n",
       "      <th>1</th>\n",
       "      <td>1st Block Jayanagar</td>\n",
       "      <td>3 BHK</td>\n",
       "      <td>1630.0</td>\n",
       "      <td>3.0</td>\n",
       "      <td>194.0</td>\n",
       "      <td>3</td>\n",
       "      <td>11901.840491</td>\n",
       "    </tr>\n",
       "    <tr>\n",
       "      <th>2</th>\n",
       "      <td>1st Block Jayanagar</td>\n",
       "      <td>3 BHK</td>\n",
       "      <td>1875.0</td>\n",
       "      <td>2.0</td>\n",
       "      <td>235.0</td>\n",
       "      <td>3</td>\n",
       "      <td>12533.333333</td>\n",
       "    </tr>\n",
       "    <tr>\n",
       "      <th>3</th>\n",
       "      <td>1st Block Jayanagar</td>\n",
       "      <td>3 BHK</td>\n",
       "      <td>1200.0</td>\n",
       "      <td>2.0</td>\n",
       "      <td>130.0</td>\n",
       "      <td>3</td>\n",
       "      <td>10833.333333</td>\n",
       "    </tr>\n",
       "    <tr>\n",
       "      <th>4</th>\n",
       "      <td>1st Block Jayanagar</td>\n",
       "      <td>2 BHK</td>\n",
       "      <td>1235.0</td>\n",
       "      <td>2.0</td>\n",
       "      <td>148.0</td>\n",
       "      <td>2</td>\n",
       "      <td>11983.805668</td>\n",
       "    </tr>\n",
       "  </tbody>\n",
       "</table>\n",
       "</div>"
      ],
      "text/plain": [
       "              location   size  total_sqft  bath  price  bhk  \\\n",
       "0  1st Block Jayanagar  4 BHK      2850.0   4.0  428.0    4   \n",
       "1  1st Block Jayanagar  3 BHK      1630.0   3.0  194.0    3   \n",
       "2  1st Block Jayanagar  3 BHK      1875.0   2.0  235.0    3   \n",
       "3  1st Block Jayanagar  3 BHK      1200.0   2.0  130.0    3   \n",
       "4  1st Block Jayanagar  2 BHK      1235.0   2.0  148.0    2   \n",
       "\n",
       "   Price_per_square_feet  \n",
       "0           15017.543860  \n",
       "1           11901.840491  \n",
       "2           12533.333333  \n",
       "3           10833.333333  \n",
       "4           11983.805668  "
      ]
     },
     "execution_count": 42,
     "metadata": {},
     "output_type": "execute_result"
    }
   ],
   "source": [
    "data.head(5)"
   ]
  },
  {
   "cell_type": "code",
   "execution_count": null,
   "id": "cccda05c",
   "metadata": {
    "execution": {
     "iopub.execute_input": "2024-03-04T16:50:47.524219Z",
     "iopub.status.busy": "2024-03-04T16:50:47.523791Z",
     "iopub.status.idle": "2024-03-04T16:50:47.532792Z",
     "shell.execute_reply": "2024-03-04T16:50:47.531465Z"
    },
    "id": "JJnoM8-BF8kr",
    "papermill": {
     "duration": 0.046522,
     "end_time": "2024-03-04T16:50:47.535243",
     "exception": false,
     "start_time": "2024-03-04T16:50:47.488721",
     "status": "completed"
    },
    "tags": []
   },
   "outputs": [],
   "source": [
    "drop_col = ['size','Price_per_square_feet']\n",
    "data.drop(drop_col,axis=1,inplace=True)"
   ]
  },
  {
   "cell_type": "markdown",
   "id": "29c00056",
   "metadata": {
    "id": "trEVlR7oGRyx",
    "papermill": {
     "duration": 0.031257,
     "end_time": "2024-03-04T16:50:47.599948",
     "exception": false,
     "start_time": "2024-03-04T16:50:47.568691",
     "status": "completed"
    },
    "tags": []
   },
   "source": [
    "**Outliers are now removed and the data is clean**"
   ]
  },
  {
   "cell_type": "code",
   "execution_count": null,
   "id": "83c98ee8",
   "metadata": {
    "execution": {
     "iopub.execute_input": "2024-03-04T16:50:47.667952Z",
     "iopub.status.busy": "2024-03-04T16:50:47.667518Z",
     "iopub.status.idle": "2024-03-04T16:50:47.731107Z",
     "shell.execute_reply": "2024-03-04T16:50:47.729555Z"
    },
    "id": "bkYAsyXyGPsw",
    "papermill": {
     "duration": 0.101324,
     "end_time": "2024-03-04T16:50:47.733682",
     "exception": false,
     "start_time": "2024-03-04T16:50:47.632358",
     "status": "completed"
    },
    "tags": []
   },
   "outputs": [],
   "source": [
    "data.to_csv('Cleaned_data.csv')"
   ]
  },
  {
   "cell_type": "markdown",
   "id": "40fa6dfa",
   "metadata": {
    "id": "Mx6v6IHeHfuV",
    "papermill": {
     "duration": 0.031494,
     "end_time": "2024-03-04T16:50:47.797296",
     "exception": false,
     "start_time": "2024-03-04T16:50:47.765802",
     "status": "completed"
    },
    "tags": []
   },
   "source": [
    "## 3. Visualization and Insights"
   ]
  },
  {
   "cell_type": "code",
   "execution_count": null,
   "id": "9b96ce14",
   "metadata": {
    "execution": {
     "iopub.execute_input": "2024-03-04T16:50:47.864915Z",
     "iopub.status.busy": "2024-03-04T16:50:47.864483Z",
     "iopub.status.idle": "2024-03-04T16:50:47.878979Z",
     "shell.execute_reply": "2024-03-04T16:50:47.878077Z"
    },
    "id": "_kH5AoArGoqC",
    "outputId": "595a460c-af71-4bf6-9d40-88fb75aaf339",
    "papermill": {
     "duration": 0.050528,
     "end_time": "2024-03-04T16:50:47.881110",
     "exception": false,
     "start_time": "2024-03-04T16:50:47.830582",
     "status": "completed"
    },
    "tags": []
   },
   "outputs": [
    {
     "data": {
      "text/html": [
       "<div>\n",
       "<style scoped>\n",
       "    .dataframe tbody tr th:only-of-type {\n",
       "        vertical-align: middle;\n",
       "    }\n",
       "\n",
       "    .dataframe tbody tr th {\n",
       "        vertical-align: top;\n",
       "    }\n",
       "\n",
       "    .dataframe thead th {\n",
       "        text-align: right;\n",
       "    }\n",
       "</style>\n",
       "<table border=\"1\" class=\"dataframe\">\n",
       "  <thead>\n",
       "    <tr style=\"text-align: right;\">\n",
       "      <th></th>\n",
       "      <th>location</th>\n",
       "      <th>total_sqft</th>\n",
       "      <th>bath</th>\n",
       "      <th>price</th>\n",
       "      <th>bhk</th>\n",
       "    </tr>\n",
       "  </thead>\n",
       "  <tbody>\n",
       "    <tr>\n",
       "      <th>0</th>\n",
       "      <td>1st Block Jayanagar</td>\n",
       "      <td>2850.0</td>\n",
       "      <td>4.0</td>\n",
       "      <td>428.0</td>\n",
       "      <td>4</td>\n",
       "    </tr>\n",
       "    <tr>\n",
       "      <th>1</th>\n",
       "      <td>1st Block Jayanagar</td>\n",
       "      <td>1630.0</td>\n",
       "      <td>3.0</td>\n",
       "      <td>194.0</td>\n",
       "      <td>3</td>\n",
       "    </tr>\n",
       "    <tr>\n",
       "      <th>2</th>\n",
       "      <td>1st Block Jayanagar</td>\n",
       "      <td>1875.0</td>\n",
       "      <td>2.0</td>\n",
       "      <td>235.0</td>\n",
       "      <td>3</td>\n",
       "    </tr>\n",
       "    <tr>\n",
       "      <th>3</th>\n",
       "      <td>1st Block Jayanagar</td>\n",
       "      <td>1200.0</td>\n",
       "      <td>2.0</td>\n",
       "      <td>130.0</td>\n",
       "      <td>3</td>\n",
       "    </tr>\n",
       "    <tr>\n",
       "      <th>4</th>\n",
       "      <td>1st Block Jayanagar</td>\n",
       "      <td>1235.0</td>\n",
       "      <td>2.0</td>\n",
       "      <td>148.0</td>\n",
       "      <td>2</td>\n",
       "    </tr>\n",
       "  </tbody>\n",
       "</table>\n",
       "</div>"
      ],
      "text/plain": [
       "              location  total_sqft  bath  price  bhk\n",
       "0  1st Block Jayanagar      2850.0   4.0  428.0    4\n",
       "1  1st Block Jayanagar      1630.0   3.0  194.0    3\n",
       "2  1st Block Jayanagar      1875.0   2.0  235.0    3\n",
       "3  1st Block Jayanagar      1200.0   2.0  130.0    3\n",
       "4  1st Block Jayanagar      1235.0   2.0  148.0    2"
      ]
     },
     "execution_count": 45,
     "metadata": {},
     "output_type": "execute_result"
    }
   ],
   "source": [
    "data.head()"
   ]
  },
  {
   "cell_type": "code",
   "execution_count": null,
   "id": "09a571d5",
   "metadata": {
    "execution": {
     "iopub.execute_input": "2024-03-04T16:50:47.948902Z",
     "iopub.status.busy": "2024-03-04T16:50:47.948440Z",
     "iopub.status.idle": "2024-03-04T16:50:47.965118Z",
     "shell.execute_reply": "2024-03-04T16:50:47.963621Z"
    },
    "id": "PpWHK-aJHnX_",
    "outputId": "aba3af05-1bef-49e8-90bc-7f3fdde74276",
    "papermill": {
     "duration": 0.054333,
     "end_time": "2024-03-04T16:50:47.967943",
     "exception": false,
     "start_time": "2024-03-04T16:50:47.913610",
     "status": "completed"
    },
    "tags": []
   },
   "outputs": [
    {
     "name": "stdout",
     "output_type": "stream",
     "text": [
      "<class 'pandas.core.frame.DataFrame'>\n",
      "RangeIndex: 10282 entries, 0 to 10281\n",
      "Data columns (total 5 columns):\n",
      " #   Column      Non-Null Count  Dtype  \n",
      "---  ------      --------------  -----  \n",
      " 0   location    10282 non-null  object \n",
      " 1   total_sqft  10282 non-null  float64\n",
      " 2   bath        10282 non-null  float64\n",
      " 3   price       10282 non-null  float64\n",
      " 4   bhk         10282 non-null  int64  \n",
      "dtypes: float64(3), int64(1), object(1)\n",
      "memory usage: 401.8+ KB\n"
     ]
    }
   ],
   "source": [
    "data.info()"
   ]
  },
  {
   "cell_type": "code",
   "execution_count": null,
   "id": "8560697e",
   "metadata": {
    "execution": {
     "iopub.execute_input": "2024-03-04T16:50:48.038657Z",
     "iopub.status.busy": "2024-03-04T16:50:48.038219Z",
     "iopub.status.idle": "2024-03-04T16:50:48.047729Z",
     "shell.execute_reply": "2024-03-04T16:50:48.046393Z"
    },
    "id": "S0Q1VSmrHokz",
    "outputId": "b1b392ce-de1e-4454-a4d1-4d4d96ae87a2",
    "papermill": {
     "duration": 0.047067,
     "end_time": "2024-03-04T16:50:48.050386",
     "exception": false,
     "start_time": "2024-03-04T16:50:48.003319",
     "status": "completed"
    },
    "tags": []
   },
   "outputs": [
    {
     "data": {
      "text/plain": [
       "255"
      ]
     },
     "execution_count": 47,
     "metadata": {},
     "output_type": "execute_result"
    }
   ],
   "source": [
    "# Only 1 categorical column = 'location'\n",
    "cat_col = ['location']\n",
    "data['location'].nunique()"
   ]
  },
  {
   "cell_type": "code",
   "execution_count": null,
   "id": "ec1a9a2a",
   "metadata": {
    "execution": {
     "iopub.execute_input": "2024-03-04T16:50:48.122313Z",
     "iopub.status.busy": "2024-03-04T16:50:48.121817Z",
     "iopub.status.idle": "2024-03-04T16:50:48.134786Z",
     "shell.execute_reply": "2024-03-04T16:50:48.133521Z"
    },
    "id": "gWUFeXgvH6g9",
    "outputId": "37e00f0f-74db-4763-9a02-81579e696672",
    "papermill": {
     "duration": 0.05381,
     "end_time": "2024-03-04T16:50:48.137341",
     "exception": false,
     "start_time": "2024-03-04T16:50:48.083531",
     "status": "completed"
    },
    "tags": []
   },
   "outputs": [
    {
     "data": {
      "text/plain": [
       "location\n",
       "other                   2205\n",
       "Whitefield               484\n",
       "Sarjapur  Road           306\n",
       "Electronic City          279\n",
       "Kanakpura Road           196\n",
       "                        ... \n",
       "Vishwapriya Layout         4\n",
       "HAL 2nd Stage              4\n",
       "Vishveshwarya Layout       4\n",
       "Marsur                     3\n",
       "BTM 1st Stage              3\n",
       "Name: count, Length: 255, dtype: int64"
      ]
     },
     "execution_count": 48,
     "metadata": {},
     "output_type": "execute_result"
    }
   ],
   "source": [
    "# data['location'].unique()\n",
    "data['location'].value_counts()"
   ]
  },
  {
   "cell_type": "code",
   "execution_count": null,
   "id": "b6d6abae",
   "metadata": {
    "execution": {
     "iopub.execute_input": "2024-03-04T16:50:48.205203Z",
     "iopub.status.busy": "2024-03-04T16:50:48.204756Z",
     "iopub.status.idle": "2024-03-04T16:50:48.612531Z",
     "shell.execute_reply": "2024-03-04T16:50:48.611677Z"
    },
    "id": "ViZPEUDKH8dC",
    "outputId": "44d2f9da-2824-4970-ff9f-f6fcf38cec63",
    "papermill": {
     "duration": 0.444587,
     "end_time": "2024-03-04T16:50:48.615413",
     "exception": false,
     "start_time": "2024-03-04T16:50:48.170826",
     "status": "completed"
    },
    "tags": []
   },
   "outputs": [
    {
     "data": {
      "text/plain": [
       "<Axes: xlabel='count', ylabel='bath'>"
      ]
     },
     "execution_count": 49,
     "metadata": {},
     "output_type": "execute_result"
    },
    {
     "data": {
      "image/png": "[encoded data removed]",
      "text/plain": [
       "<Figure size 800x600 with 1 Axes>"
      ]
     },
     "metadata": {},
     "output_type": "display_data"
    }
   ],
   "source": [
    "plt.figure(figsize=(8, 6))\n",
    "sns.countplot(data=data,y='bath',palette = 'pastel')"
   ]
  },
  {
   "cell_type": "code",
   "execution_count": null,
   "id": "1f94d8f1",
   "metadata": {
    "execution": {
     "iopub.execute_input": "2024-03-04T16:50:48.685938Z",
     "iopub.status.busy": "2024-03-04T16:50:48.684790Z",
     "iopub.status.idle": "2024-03-04T16:50:49.030427Z",
     "shell.execute_reply": "2024-03-04T16:50:49.029146Z"
    },
    "id": "JWqakNvbIjvz",
    "outputId": "378f959c-8add-4879-96a1-86f979d579e0",
    "papermill": {
     "duration": 0.382558,
     "end_time": "2024-03-04T16:50:49.033079",
     "exception": false,
     "start_time": "2024-03-04T16:50:48.650521",
     "status": "completed"
    },
    "tags": []
   },
   "outputs": [
    {
     "data": {
      "text/plain": [
       "<Axes: xlabel='count', ylabel='bhk'>"
      ]
     },
     "execution_count": 50,
     "metadata": {},
     "output_type": "execute_result"
    },
    {
     "data": {
      "image/png": "[encoded data removed]",
      "text/plain": [
       "<Figure size 800x600 with 1 Axes>"
      ]
     },
     "metadata": {},
     "output_type": "display_data"
    }
   ],
   "source": [
    "plt.figure(figsize=(8, 6))\n",
    "sns.countplot(data=data,y='bhk',palette = 'pastel')"
   ]
  },
  {
   "cell_type": "code",
   "execution_count": null,
   "id": "3afd88cc",
   "metadata": {
    "execution": {
     "iopub.execute_input": "2024-03-04T16:50:49.104392Z",
     "iopub.status.busy": "2024-03-04T16:50:49.103801Z",
     "iopub.status.idle": "2024-03-04T16:50:49.572975Z",
     "shell.execute_reply": "2024-03-04T16:50:49.571760Z"
    },
    "id": "f_rDpVq0IshG",
    "outputId": "27c43551-49da-459f-ea6a-4b07b43dfd36",
    "papermill": {
     "duration": 0.507992,
     "end_time": "2024-03-04T16:50:49.575643",
     "exception": false,
     "start_time": "2024-03-04T16:50:49.067651",
     "status": "completed"
    },
    "tags": []
   },
   "outputs": [
    {
     "data": {
      "text/plain": [
       "<Axes: xlabel='price', ylabel='Density'>"
      ]
     },
     "execution_count": 51,
     "metadata": {},
     "output_type": "execute_result"
    },
    {
     "data": {
      "image/png": "[encoded data removed]",
      "text/plain": [
       "<Figure size 800x600 with 1 Axes>"
      ]
     },
     "metadata": {},
     "output_type": "display_data"
    }
   ],
   "source": [
    "plt.figure(figsize=(8, 6))\n",
    "sns.kdeplot(data=data,x='price',palette = 'pastel')"
   ]
  },
  {
   "cell_type": "code",
   "execution_count": null,
   "id": "3a90455f",
   "metadata": {
    "execution": {
     "iopub.execute_input": "2024-03-04T16:50:49.646103Z",
     "iopub.status.busy": "2024-03-04T16:50:49.645316Z",
     "iopub.status.idle": "2024-03-04T16:50:49.875066Z",
     "shell.execute_reply": "2024-03-04T16:50:49.873872Z"
    },
    "id": "bFEzn9_pJqN9",
    "outputId": "a218fcc6-a2cc-4f28-e971-aba9280faf6a",
    "papermill": {
     "duration": 0.267979,
     "end_time": "2024-03-04T16:50:49.877874",
     "exception": false,
     "start_time": "2024-03-04T16:50:49.609895",
     "status": "completed"
    },
    "tags": []
   },
   "outputs": [
    {
     "data": {
      "text/plain": [
       "<Axes: xlabel='price'>"
      ]
     },
     "execution_count": 52,
     "metadata": {},
     "output_type": "execute_result"
    },
    {
     "data": {
      "image/png": "[encoded data removed]",
      "text/plain": [
       "<Figure size 800x600 with 1 Axes>"
      ]
     },
     "metadata": {},
     "output_type": "display_data"
    }
   ],
   "source": [
    "plt.figure(figsize=(8, 6))\n",
    "sns.boxplot(data=data,x='price',palette = 'pastel')"
   ]
  },
  {
   "cell_type": "code",
   "execution_count": null,
   "id": "acfbfc66",
   "metadata": {
    "execution": {
     "iopub.execute_input": "2024-03-04T16:50:49.950904Z",
     "iopub.status.busy": "2024-03-04T16:50:49.950288Z",
     "iopub.status.idle": "2024-03-04T16:50:50.367429Z",
     "shell.execute_reply": "2024-03-04T16:50:50.366041Z"
    },
    "id": "eacu8umeJwMP",
    "outputId": "01636e64-343e-4632-e2ad-640f93c644f3",
    "papermill": {
     "duration": 0.458179,
     "end_time": "2024-03-04T16:50:50.370914",
     "exception": false,
     "start_time": "2024-03-04T16:50:49.912735",
     "status": "completed"
    },
    "tags": []
   },
   "outputs": [
    {
     "data": {
      "text/plain": [
       "<Axes: xlabel='total_sqft', ylabel='Density'>"
      ]
     },
     "execution_count": 53,
     "metadata": {},
     "output_type": "execute_result"
    },
    {
     "data": {
      "image/png": "[encoded data removed]",
      "text/plain": [
       "<Figure size 800x600 with 1 Axes>"
      ]
     },
     "metadata": {},
     "output_type": "display_data"
    }
   ],
   "source": [
    "plt.figure(figsize=(8, 6))\n",
    "sns.kdeplot(data=data,x='total_sqft',palette = 'pastel')"
   ]
  },
  {
   "cell_type": "code",
   "execution_count": null,
   "id": "1e47c5f6",
   "metadata": {
    "execution": {
     "iopub.execute_input": "2024-03-04T16:50:50.445706Z",
     "iopub.status.busy": "2024-03-04T16:50:50.444633Z",
     "iopub.status.idle": "2024-03-04T16:50:50.691650Z",
     "shell.execute_reply": "2024-03-04T16:50:50.690450Z"
    },
    "id": "EdeWNcKRJ9xB",
    "outputId": "61f1fdfb-bc87-44ed-90d9-99ccf49e3d21",
    "papermill": {
     "duration": 0.286919,
     "end_time": "2024-03-04T16:50:50.694229",
     "exception": false,
     "start_time": "2024-03-04T16:50:50.407310",
     "status": "completed"
    },
    "tags": []
   },
   "outputs": [
    {
     "data": {
      "text/plain": [
       "<Axes: xlabel='total_sqft'>"
      ]
     },
     "execution_count": 54,
     "metadata": {},
     "output_type": "execute_result"
    },
    {
     "data": {
      "image/png": "[encoded data removed]",
      "text/plain": [
       "<Figure size 800x600 with 1 Axes>"
      ]
     },
     "metadata": {},
     "output_type": "display_data"
    }
   ],
   "source": [
    "plt.figure(figsize=(8, 6))\n",
    "sns.boxplot(data=data,x='total_sqft',palette = 'pastel')"
   ]
  },
  {
   "cell_type": "code",
   "execution_count": null,
   "id": "23a015b3",
   "metadata": {
    "execution": {
     "iopub.execute_input": "2024-03-04T16:50:50.768250Z",
     "iopub.status.busy": "2024-03-04T16:50:50.767569Z",
     "iopub.status.idle": "2024-03-04T16:50:54.634727Z",
     "shell.execute_reply": "2024-03-04T16:50:54.633583Z"
    },
    "id": "_oB0h3hBKCVB",
    "outputId": "21b89ca9-0ded-450e-e386-81bc535066ad",
    "papermill": {
     "duration": 3.90939,
     "end_time": "2024-03-04T16:50:54.639756",
     "exception": false,
     "start_time": "2024-03-04T16:50:50.730366",
     "status": "completed"
    },
    "tags": []
   },
   "outputs": [
    {
     "data": {
      "text/plain": [
       "<seaborn.axisgrid.JointGrid at 0x7eb1ce193100>"
      ]
     },
     "execution_count": 55,
     "metadata": {},
     "output_type": "execute_result"
    },
    {
     "data": {
      "text/plain": [
       "<Figure size 800x600 with 0 Axes>"
      ]
     },
     "metadata": {},
     "output_type": "display_data"
    },
    {
     "data": {
      "image/png": "[encoded data removed]",
      "text/plain": [
       "<Figure size 600x600 with 3 Axes>"
      ]
     },
     "metadata": {},
     "output_type": "display_data"
    }
   ],
   "source": [
    "# Plot between total_sqft and price:\n",
    "plt.figure(figsize=(8, 6))\n",
    "sns.jointplot(data=data,y='total_sqft',x='price',kind='reg')"
   ]
  },
  {
   "cell_type": "markdown",
   "id": "7e88482c",
   "metadata": {
    "id": "fR8wiH7AMEJ7",
    "papermill": {
     "duration": 0.03774,
     "end_time": "2024-03-04T16:50:54.714688",
     "exception": false,
     "start_time": "2024-03-04T16:50:54.676948",
     "status": "completed"
    },
    "tags": []
   },
   "source": [
    "**Insights :**\n",
    "* *Most sold house are of 2BHK*\n",
    "* *Houses mainly in 254 different locations but most in Whitefield and Sarjapur Road*"
   ]
  },
  {
   "cell_type": "markdown",
   "id": "2eec27f4",
   "metadata": {
    "id": "oEWhWpkdMwpB",
    "papermill": {
     "duration": 0.042333,
     "end_time": "2024-03-04T16:50:54.793906",
     "exception": false,
     "start_time": "2024-03-04T16:50:54.751573",
     "status": "completed"
    },
    "tags": []
   },
   "source": [
    "## 4. Train-Test Split and Model Building :"
   ]
  },
  {
   "cell_type": "code",
   "execution_count": null,
   "id": "24a1fae4",
   "metadata": {
    "execution": {
     "iopub.execute_input": "2024-03-04T16:50:54.873204Z",
     "iopub.status.busy": "2024-03-04T16:50:54.872793Z",
     "iopub.status.idle": "2024-03-04T16:50:55.316746Z",
     "shell.execute_reply": "2024-03-04T16:50:55.314624Z"
    },
    "id": "mOHlJmOzK_WB",
    "papermill": {
     "duration": 0.486923,
     "end_time": "2024-03-04T16:50:55.319622",
     "exception": false,
     "start_time": "2024-03-04T16:50:54.832699",
     "status": "completed"
    },
    "tags": []
   },
   "outputs": [],
   "source": [
    "# Importing Bsic libraries for ML model in Pipelining\n",
    "from sklearn.model_selection import train_test_split\n",
    "from sklearn.linear_model import LinearRegression,Lasso,Ridge\n",
    "from sklearn.preprocessing import OneHotEncoder,StandardScaler\n",
    "from sklearn.compose import make_column_transformer\n",
    "from sklearn.pipeline import make_pipeline\n",
    "from sklearn.metrics import r2_score"
   ]
  },
  {
   "cell_type": "code",
   "execution_count": null,
   "id": "bb6951a1",
   "metadata": {
    "execution": {
     "iopub.execute_input": "2024-03-04T16:50:55.399953Z",
     "iopub.status.busy": "2024-03-04T16:50:55.399438Z",
     "iopub.status.idle": "2024-03-04T16:50:55.407809Z",
     "shell.execute_reply": "2024-03-04T16:50:55.406509Z"
    },
    "id": "3tpIMG1b0V5i",
    "papermill": {
     "duration": 0.051528,
     "end_time": "2024-03-04T16:50:55.410182",
     "exception": false,
     "start_time": "2024-03-04T16:50:55.358654",
     "status": "completed"
    },
    "tags": []
   },
   "outputs": [],
   "source": [
    "X = data.drop(columns=['price'])\n",
    "y = data['price']"
   ]
  },
  {
   "cell_type": "code",
   "execution_count": null,
   "id": "3a21450a",
   "metadata": {
    "execution": {
     "iopub.execute_input": "2024-03-04T16:50:55.494518Z",
     "iopub.status.busy": "2024-03-04T16:50:55.493657Z",
     "iopub.status.idle": "2024-03-04T16:50:55.504282Z",
     "shell.execute_reply": "2024-03-04T16:50:55.503282Z"
    },
    "id": "AeinWyJq0EMk",
    "papermill": {
     "duration": 0.056876,
     "end_time": "2024-03-04T16:50:55.506884",
     "exception": false,
     "start_time": "2024-03-04T16:50:55.450008",
     "status": "completed"
    },
    "tags": []
   },
   "outputs": [],
   "source": [
    "# Train and Test Split :\n",
    "X_train,X_test,y_train,y_test = train_test_split(X,y,test_size=0.2,random_state=0)"
   ]
  },
  {
   "cell_type": "code",
   "execution_count": null,
   "id": "d8fefabb",
   "metadata": {
    "execution": {
     "iopub.execute_input": "2024-03-04T16:50:55.583398Z",
     "iopub.status.busy": "2024-03-04T16:50:55.582982Z",
     "iopub.status.idle": "2024-03-04T16:50:55.588898Z",
     "shell.execute_reply": "2024-03-04T16:50:55.587688Z"
    },
    "id": "a3UaS2iK0lvC",
    "outputId": "f79d71e4-73cb-4c2f-cddb-8713ee3d76cf",
    "papermill": {
     "duration": 0.046685,
     "end_time": "2024-03-04T16:50:55.591283",
     "exception": false,
     "start_time": "2024-03-04T16:50:55.544598",
     "status": "completed"
    },
    "tags": []
   },
   "outputs": [
    {
     "name": "stdout",
     "output_type": "stream",
     "text": [
      "(8225, 4)\n",
      "(2057, 4)\n"
     ]
    }
   ],
   "source": [
    "print(X_train.shape)\n",
    "print(X_test.shape)"
   ]
  },
  {
   "cell_type": "code",
   "execution_count": null,
   "id": "257d8f82",
   "metadata": {
    "execution": {
     "iopub.execute_input": "2024-03-04T16:50:55.668465Z",
     "iopub.status.busy": "2024-03-04T16:50:55.667692Z",
     "iopub.status.idle": "2024-03-04T16:50:55.673024Z",
     "shell.execute_reply": "2024-03-04T16:50:55.672204Z"
    },
    "id": "0N0fJ75w0stV",
    "papermill": {
     "duration": 0.046666,
     "end_time": "2024-03-04T16:50:55.675478",
     "exception": false,
     "start_time": "2024-03-04T16:50:55.628812",
     "status": "completed"
    },
    "tags": []
   },
   "outputs": [],
   "source": [
    "# Applying Linear Regression :\n",
    "column_trans = make_column_transformer((OneHotEncoder(sparse=False),['location']),remainder='passthrough')"
   ]
  },
  {
   "cell_type": "code",
   "execution_count": null,
   "id": "04b8ae48",
   "metadata": {
    "execution": {
     "iopub.execute_input": "2024-03-04T16:50:55.751891Z",
     "iopub.status.busy": "2024-03-04T16:50:55.751148Z",
     "iopub.status.idle": "2024-03-04T16:50:55.756251Z",
     "shell.execute_reply": "2024-03-04T16:50:55.755378Z"
    },
    "id": "2pafw7MO5vUD",
    "papermill": {
     "duration": 0.04649,
     "end_time": "2024-03-04T16:50:55.758591",
     "exception": false,
     "start_time": "2024-03-04T16:50:55.712101",
     "status": "completed"
    },
    "tags": []
   },
   "outputs": [],
   "source": [
    "scaler = StandardScaler()"
   ]
  },
  {
   "cell_type": "code",
   "execution_count": null,
   "id": "e1e162c7",
   "metadata": {
    "execution": {
     "iopub.execute_input": "2024-03-04T16:50:55.834478Z",
     "iopub.status.busy": "2024-03-04T16:50:55.834049Z",
     "iopub.status.idle": "2024-03-04T16:50:55.838707Z",
     "shell.execute_reply": "2024-03-04T16:50:55.837515Z"
    },
    "id": "cPlqk3Ch50Vn",
    "papermill": {
     "duration": 0.045827,
     "end_time": "2024-03-04T16:50:55.841033",
     "exception": false,
     "start_time": "2024-03-04T16:50:55.795206",
     "status": "completed"
    },
    "tags": []
   },
   "outputs": [],
   "source": [
    "lr = LinearRegression()"
   ]
  },
  {
   "cell_type": "code",
   "execution_count": null,
   "id": "a8ddb535",
   "metadata": {
    "execution": {
     "iopub.execute_input": "2024-03-04T16:50:55.916216Z",
     "iopub.status.busy": "2024-03-04T16:50:55.915771Z",
     "iopub.status.idle": "2024-03-04T16:50:55.920988Z",
     "shell.execute_reply": "2024-03-04T16:50:55.919727Z"
    },
    "id": "E7ruvazC5_Xx",
    "papermill": {
     "duration": 0.045295,
     "end_time": "2024-03-04T16:50:55.923279",
     "exception": false,
     "start_time": "2024-03-04T16:50:55.877984",
     "status": "completed"
    },
    "tags": []
   },
   "outputs": [],
   "source": [
    "pipe = make_pipeline(column_trans,scaler,lr)"
   ]
  },
  {
   "cell_type": "code",
   "execution_count": null,
   "id": "e4b69eca",
   "metadata": {
    "execution": {
     "iopub.execute_input": "2024-03-04T16:50:56.000052Z",
     "iopub.status.busy": "2024-03-04T16:50:55.999007Z",
     "iopub.status.idle": "2024-03-04T16:50:56.355965Z",
     "shell.execute_reply": "2024-03-04T16:50:56.354191Z"
    },
    "id": "LXUF0kED7JjM",
    "outputId": "44addbeb-2a8e-4d1b-e339-7d17b7e85e92",
    "papermill": {
     "duration": 0.400093,
     "end_time": "2024-03-04T16:50:56.360236",
     "exception": false,
     "start_time": "2024-03-04T16:50:55.960143",
     "status": "completed"
    },
    "tags": []
   },
   "outputs": [
    {
     "data": {
      "text/html": [
       "<style>#sk-container-id-1 {color: black;background-color: white;}#sk-container-id-1 pre{padding: 0;}#sk-container-id-1 div.sk-toggleable {background-color: white;}#sk-container-id-1 label.sk-toggleable__label {cursor: pointer;display: block;width: 100%;margin-bottom: 0;padding: 0.3em;box-sizing: border-box;text-align: center;}#sk-container-id-1 label.sk-toggleable__label-arrow:before {content: \"▸\";float: left;margin-right: 0.25em;color: #696969;}#sk-container-id-1 label.sk-toggleable__label-arrow:hover:before {color: black;}#sk-container-id-1 div.sk-estimator:hover label.sk-toggleable__label-arrow:before {color: black;}#sk-container-id-1 div.sk-toggleable__content {max-height: 0;max-width: 0;overflow: hidden;text-align: left;background-color: #f0f8ff;}#sk-container-id-1 div.sk-toggleable__content pre {margin: 0.2em;color: black;border-radius: 0.25em;background-color: #f0f8ff;}#sk-container-id-1 input.sk-toggleable__control:checked~div.sk-toggleable__content {max-height: 200px;max-width: 100%;overflow: auto;}#sk-container-id-1 input.sk-toggleable__control:checked~label.sk-toggleable__label-arrow:before {content: \"▾\";}#sk-container-id-1 div.sk-estimator input.sk-toggleable__control:checked~label.sk-toggleable__label {background-color: #d4ebff;}#sk-container-id-1 div.sk-label input.sk-toggleable__control:checked~label.sk-toggleable__label {background-color: #d4ebff;}#sk-container-id-1 input.sk-hidden--visually {border: 0;clip: rect(1px 1px 1px 1px);clip: rect(1px, 1px, 1px, 1px);height: 1px;margin: -1px;overflow: hidden;padding: 0;position: absolute;width: 1px;}#sk-container-id-1 div.sk-estimator {font-family: monospace;background-color: #f0f8ff;border: 1px dotted black;border-radius: 0.25em;box-sizing: border-box;margin-bottom: 0.5em;}#sk-container-id-1 div.sk-estimator:hover {background-color: #d4ebff;}#sk-container-id-1 div.sk-parallel-item::after {content: \"\";width: 100%;border-bottom: 1px solid gray;flex-grow: 1;}#sk-container-id-1 div.sk-label:hover label.sk-toggleable__label {background-color: #d4ebff;}#sk-container-id-1 div.sk-serial::before {content: \"\";position: absolute;border-left: 1px solid gray;box-sizing: border-box;top: 0;bottom: 0;left: 50%;z-index: 0;}#sk-container-id-1 div.sk-serial {display: flex;flex-direction: column;align-items: center;background-color: white;padding-right: 0.2em;padding-left: 0.2em;position: relative;}#sk-container-id-1 div.sk-item {position: relative;z-index: 1;}#sk-container-id-1 div.sk-parallel {display: flex;align-items: stretch;justify-content: center;background-color: white;position: relative;}#sk-container-id-1 div.sk-item::before, #sk-container-id-1 div.sk-parallel-item::before {content: \"\";position: absolute;border-left: 1px solid gray;box-sizing: border-box;top: 0;bottom: 0;left: 50%;z-index: -1;}#sk-container-id-1 div.sk-parallel-item {display: flex;flex-direction: column;z-index: 1;position: relative;background-color: white;}#sk-container-id-1 div.sk-parallel-item:first-child::after {align-self: flex-end;width: 50%;}#sk-container-id-1 div.sk-parallel-item:last-child::after {align-self: flex-start;width: 50%;}#sk-container-id-1 div.sk-parallel-item:only-child::after {width: 0;}#sk-container-id-1 div.sk-dashed-wrapped {border: 1px dashed gray;margin: 0 0.4em 0.5em 0.4em;box-sizing: border-box;padding-bottom: 0.4em;background-color: white;}#sk-container-id-1 div.sk-label label {font-family: monospace;font-weight: bold;display: inline-block;line-height: 1.2em;}#sk-container-id-1 div.sk-label-container {text-align: center;}#sk-container-id-1 div.sk-container {/* jupyter's `normalize.less` sets `[hidden] { display: none; }` but bootstrap.min.css set `[hidden] { display: none !important; }` so we also need the `!important` here to be able to override the default hidden behavior on the sphinx rendered scikit-learn.org. See: https://github.com/scikit-learn/scikit-learn/issues/21755 */display: inline-block !important;position: relative;}#sk-container-id-1 div.sk-text-repr-fallback {display: none;}</style><div id=\"sk-container-id-1\" class=\"sk-top-container\"><div class=\"sk-text-repr-fallback\"><pre>Pipeline(steps=[(&#x27;columntransformer&#x27;,\n",
       "                 ColumnTransformer(remainder=&#x27;passthrough&#x27;,\n",
       "                                   transformers=[(&#x27;onehotencoder&#x27;,\n",
       "                                                  OneHotEncoder(sparse=False),\n",
       "                                                  [&#x27;location&#x27;])])),\n",
       "                (&#x27;standardscaler&#x27;, StandardScaler()),\n",
       "                (&#x27;linearregression&#x27;, LinearRegression())])</pre><b>In a Jupyter environment, please rerun this cell to show the HTML representation or trust the notebook. <br />On GitHub, the HTML representation is unable to render, please try loading this page with nbviewer.org.</b></div><div class=\"sk-container\" hidden><div class=\"sk-item sk-dashed-wrapped\"><div class=\"sk-label-container\"><div class=\"sk-label sk-toggleable\"><input class=\"sk-toggleable__control sk-hidden--visually\" id=\"sk-estimator-id-1\" type=\"checkbox\" ><label for=\"sk-estimator-id-1\" class=\"sk-toggleable__label sk-toggleable__label-arrow\">Pipeline</label><div class=\"sk-toggleable__content\"><pre>Pipeline(steps=[(&#x27;columntransformer&#x27;,\n",
       "                 ColumnTransformer(remainder=&#x27;passthrough&#x27;,\n",
       "                                   transformers=[(&#x27;onehotencoder&#x27;,\n",
       "                                                  OneHotEncoder(sparse=False),\n",
       "                                                  [&#x27;location&#x27;])])),\n",
       "                (&#x27;standardscaler&#x27;, StandardScaler()),\n",
       "                (&#x27;linearregression&#x27;, LinearRegression())])</pre></div></div></div><div class=\"sk-serial\"><div class=\"sk-item sk-dashed-wrapped\"><div class=\"sk-label-container\"><div class=\"sk-label sk-toggleable\"><input class=\"sk-toggleable__control sk-hidden--visually\" id=\"sk-estimator-id-2\" type=\"checkbox\" ><label for=\"sk-estimator-id-2\" class=\"sk-toggleable__label sk-toggleable__label-arrow\">columntransformer: ColumnTransformer</label><div class=\"sk-toggleable__content\"><pre>ColumnTransformer(remainder=&#x27;passthrough&#x27;,\n",
       "                  transformers=[(&#x27;onehotencoder&#x27;, OneHotEncoder(sparse=False),\n",
       "                                 [&#x27;location&#x27;])])</pre></div></div></div><div class=\"sk-parallel\"><div class=\"sk-parallel-item\"><div class=\"sk-item\"><div class=\"sk-label-container\"><div class=\"sk-label sk-toggleable\"><input class=\"sk-toggleable__control sk-hidden--visually\" id=\"sk-estimator-id-3\" type=\"checkbox\" ><label for=\"sk-estimator-id-3\" class=\"sk-toggleable__label sk-toggleable__label-arrow\">onehotencoder</label><div class=\"sk-toggleable__content\"><pre>[&#x27;location&#x27;]</pre></div></div></div><div class=\"sk-serial\"><div class=\"sk-item\"><div class=\"sk-estimator sk-toggleable\"><input class=\"sk-toggleable__control sk-hidden--visually\" id=\"sk-estimator-id-4\" type=\"checkbox\" ><label for=\"sk-estimator-id-4\" class=\"sk-toggleable__label sk-toggleable__label-arrow\">OneHotEncoder</label><div class=\"sk-toggleable__content\"><pre>OneHotEncoder(sparse=False)</pre></div></div></div></div></div></div><div class=\"sk-parallel-item\"><div class=\"sk-item\"><div class=\"sk-label-container\"><div class=\"sk-label sk-toggleable\"><input class=\"sk-toggleable__control sk-hidden--visually\" id=\"sk-estimator-id-5\" type=\"checkbox\" ><label for=\"sk-estimator-id-5\" class=\"sk-toggleable__label sk-toggleable__label-arrow\">remainder</label><div class=\"sk-toggleable__content\"><pre>[&#x27;total_sqft&#x27;, &#x27;bath&#x27;, &#x27;bhk&#x27;]</pre></div></div></div><div class=\"sk-serial\"><div class=\"sk-item\"><div class=\"sk-estimator sk-toggleable\"><input class=\"sk-toggleable__control sk-hidden--visually\" id=\"sk-estimator-id-6\" type=\"checkbox\" ><label for=\"sk-estimator-id-6\" class=\"sk-toggleable__label sk-toggleable__label-arrow\">passthrough</label><div class=\"sk-toggleable__content\"><pre>passthrough</pre></div></div></div></div></div></div></div></div><div class=\"sk-item\"><div class=\"sk-estimator sk-toggleable\"><input class=\"sk-toggleable__control sk-hidden--visually\" id=\"sk-estimator-id-7\" type=\"checkbox\" ><label for=\"sk-estimator-id-7\" class=\"sk-toggleable__label sk-toggleable__label-arrow\">StandardScaler</label><div class=\"sk-toggleable__content\"><pre>StandardScaler()</pre></div></div></div><div class=\"sk-item\"><div class=\"sk-estimator sk-toggleable\"><input class=\"sk-toggleable__control sk-hidden--visually\" id=\"sk-estimator-id-8\" type=\"checkbox\" ><label for=\"sk-estimator-id-8\" class=\"sk-toggleable__label sk-toggleable__label-arrow\">LinearRegression</label><div class=\"sk-toggleable__content\"><pre>LinearRegression()</pre></div></div></div></div></div></div></div>"
      ],
      "text/plain": [
       "Pipeline(steps=[('columntransformer',\n",
       "                 ColumnTransformer(remainder='passthrough',\n",
       "                                   transformers=[('onehotencoder',\n",
       "                                                  OneHotEncoder(sparse=False),\n",
       "                                                  ['location'])])),\n",
       "                ('standardscaler', StandardScaler()),\n",
       "                ('linearregression', LinearRegression())])"
      ]
     },
     "execution_count": 64,
     "metadata": {},
     "output_type": "execute_result"
    }
   ],
   "source": [
    "pipe.fit(X_train,y_train)"
   ]
  },
  {
   "cell_type": "code",
   "execution_count": null,
   "id": "01caf7e2",
   "metadata": {
    "execution": {
     "iopub.execute_input": "2024-03-04T16:50:56.467510Z",
     "iopub.status.busy": "2024-03-04T16:50:56.467029Z",
     "iopub.status.idle": "2024-03-04T16:50:56.490626Z",
     "shell.execute_reply": "2024-03-04T16:50:56.489663Z"
    },
    "id": "mvN2xj6m7OtO",
    "papermill": {
     "duration": 0.066827,
     "end_time": "2024-03-04T16:50:56.494811",
     "exception": false,
     "start_time": "2024-03-04T16:50:56.427984",
     "status": "completed"
    },
    "tags": []
   },
   "outputs": [],
   "source": [
    "y_pred = pipe.predict(X_test)"
   ]
  },
  {
   "cell_type": "code",
   "execution_count": null,
   "id": "c9a9b066",
   "metadata": {
    "execution": {
     "iopub.execute_input": "2024-03-04T16:50:56.628537Z",
     "iopub.status.busy": "2024-03-04T16:50:56.628094Z",
     "iopub.status.idle": "2024-03-04T16:50:56.636844Z",
     "shell.execute_reply": "2024-03-04T16:50:56.635680Z"
    },
    "id": "hwh3BJnG7W5O",
    "outputId": "08bd93c7-2124-42b6-f69b-63967d0de849",
    "papermill": {
     "duration": 0.065449,
     "end_time": "2024-03-04T16:50:56.639198",
     "exception": false,
     "start_time": "2024-03-04T16:50:56.573749",
     "status": "completed"
    },
    "tags": []
   },
   "outputs": [
    {
     "data": {
      "text/plain": [
       "0.8210972034575345"
      ]
     },
     "execution_count": 66,
     "metadata": {},
     "output_type": "execute_result"
    }
   ],
   "source": [
    "r2_score(y_test,y_pred)"
   ]
  },
  {
   "cell_type": "code",
   "execution_count": null,
   "id": "efd8030f",
   "metadata": {
    "execution": {
     "iopub.execute_input": "2024-03-04T16:50:56.716331Z",
     "iopub.status.busy": "2024-03-04T16:50:56.715261Z",
     "iopub.status.idle": "2024-03-04T16:50:56.720888Z",
     "shell.execute_reply": "2024-03-04T16:50:56.719340Z"
    },
    "id": "Ud_vEQFz7fMM",
    "papermill": {
     "duration": 0.047685,
     "end_time": "2024-03-04T16:50:56.723892",
     "exception": false,
     "start_time": "2024-03-04T16:50:56.676207",
     "status": "completed"
    },
    "tags": []
   },
   "outputs": [],
   "source": [
    "# Applying Lasso :\n",
    "lasso = Lasso()"
   ]
  },
  {
   "cell_type": "code",
   "execution_count": null,
   "id": "8ca25a11",
   "metadata": {
    "execution": {
     "iopub.execute_input": "2024-03-04T16:50:56.800389Z",
     "iopub.status.busy": "2024-03-04T16:50:56.799957Z",
     "iopub.status.idle": "2024-03-04T16:50:56.805785Z",
     "shell.execute_reply": "2024-03-04T16:50:56.804332Z"
    },
    "id": "hgcecO75FbXD",
    "papermill": {
     "duration": 0.047145,
     "end_time": "2024-03-04T16:50:56.808646",
     "exception": false,
     "start_time": "2024-03-04T16:50:56.761501",
     "status": "completed"
    },
    "tags": []
   },
   "outputs": [],
   "source": [
    "pipe = make_pipeline(column_trans,scaler,lasso)"
   ]
  },
  {
   "cell_type": "code",
   "execution_count": null,
   "id": "1cccd4c5",
   "metadata": {
    "execution": {
     "iopub.execute_input": "2024-03-04T16:50:56.888745Z",
     "iopub.status.busy": "2024-03-04T16:50:56.888341Z",
     "iopub.status.idle": "2024-03-04T16:50:57.051674Z",
     "shell.execute_reply": "2024-03-04T16:50:57.048776Z"
    },
    "id": "8w1PRM19NPU8",
    "outputId": "66174d8b-d5b9-4368-a30a-e7b426136749",
    "papermill": {
     "duration": 0.209642,
     "end_time": "2024-03-04T16:50:57.056583",
     "exception": false,
     "start_time": "2024-03-04T16:50:56.846941",
     "status": "completed"
    },
    "tags": []
   },
   "outputs": [
    {
     "data": {
      "text/html": [
       "<style>#sk-container-id-2 {color: black;background-color: white;}#sk-container-id-2 pre{padding: 0;}#sk-container-id-2 div.sk-toggleable {background-color: white;}#sk-container-id-2 label.sk-toggleable__label {cursor: pointer;display: block;width: 100%;margin-bottom: 0;padding: 0.3em;box-sizing: border-box;text-align: center;}#sk-container-id-2 label.sk-toggleable__label-arrow:before {content: \"▸\";float: left;margin-right: 0.25em;color: #696969;}#sk-container-id-2 label.sk-toggleable__label-arrow:hover:before {color: black;}#sk-container-id-2 div.sk-estimator:hover label.sk-toggleable__label-arrow:before {color: black;}#sk-container-id-2 div.sk-toggleable__content {max-height: 0;max-width: 0;overflow: hidden;text-align: left;background-color: #f0f8ff;}#sk-container-id-2 div.sk-toggleable__content pre {margin: 0.2em;color: black;border-radius: 0.25em;background-color: #f0f8ff;}#sk-container-id-2 input.sk-toggleable__control:checked~div.sk-toggleable__content {max-height: 200px;max-width: 100%;overflow: auto;}#sk-container-id-2 input.sk-toggleable__control:checked~label.sk-toggleable__label-arrow:before {content: \"▾\";}#sk-container-id-2 div.sk-estimator input.sk-toggleable__control:checked~label.sk-toggleable__label {background-color: #d4ebff;}#sk-container-id-2 div.sk-label input.sk-toggleable__control:checked~label.sk-toggleable__label {background-color: #d4ebff;}#sk-container-id-2 input.sk-hidden--visually {border: 0;clip: rect(1px 1px 1px 1px);clip: rect(1px, 1px, 1px, 1px);height: 1px;margin: -1px;overflow: hidden;padding: 0;position: absolute;width: 1px;}#sk-container-id-2 div.sk-estimator {font-family: monospace;background-color: #f0f8ff;border: 1px dotted black;border-radius: 0.25em;box-sizing: border-box;margin-bottom: 0.5em;}#sk-container-id-2 div.sk-estimator:hover {background-color: #d4ebff;}#sk-container-id-2 div.sk-parallel-item::after {content: \"\";width: 100%;border-bottom: 1px solid gray;flex-grow: 1;}#sk-container-id-2 div.sk-label:hover label.sk-toggleable__label {background-color: #d4ebff;}#sk-container-id-2 div.sk-serial::before {content: \"\";position: absolute;border-left: 1px solid gray;box-sizing: border-box;top: 0;bottom: 0;left: 50%;z-index: 0;}#sk-container-id-2 div.sk-serial {display: flex;flex-direction: column;align-items: center;background-color: white;padding-right: 0.2em;padding-left: 0.2em;position: relative;}#sk-container-id-2 div.sk-item {position: relative;z-index: 1;}#sk-container-id-2 div.sk-parallel {display: flex;align-items: stretch;justify-content: center;background-color: white;position: relative;}#sk-container-id-2 div.sk-item::before, #sk-container-id-2 div.sk-parallel-item::before {content: \"\";position: absolute;border-left: 1px solid gray;box-sizing: border-box;top: 0;bottom: 0;left: 50%;z-index: -1;}#sk-container-id-2 div.sk-parallel-item {display: flex;flex-direction: column;z-index: 1;position: relative;background-color: white;}#sk-container-id-2 div.sk-parallel-item:first-child::after {align-self: flex-end;width: 50%;}#sk-container-id-2 div.sk-parallel-item:last-child::after {align-self: flex-start;width: 50%;}#sk-container-id-2 div.sk-parallel-item:only-child::after {width: 0;}#sk-container-id-2 div.sk-dashed-wrapped {border: 1px dashed gray;margin: 0 0.4em 0.5em 0.4em;box-sizing: border-box;padding-bottom: 0.4em;background-color: white;}#sk-container-id-2 div.sk-label label {font-family: monospace;font-weight: bold;display: inline-block;line-height: 1.2em;}#sk-container-id-2 div.sk-label-container {text-align: center;}#sk-container-id-2 div.sk-container {/* jupyter's `normalize.less` sets `[hidden] { display: none; }` but bootstrap.min.css set `[hidden] { display: none !important; }` so we also need the `!important` here to be able to override the default hidden behavior on the sphinx rendered scikit-learn.org. See: https://github.com/scikit-learn/scikit-learn/issues/21755 */display: inline-block !important;position: relative;}#sk-container-id-2 div.sk-text-repr-fallback {display: none;}</style><div id=\"sk-container-id-2\" class=\"sk-top-container\"><div class=\"sk-text-repr-fallback\"><pre>Pipeline(steps=[(&#x27;columntransformer&#x27;,\n",
       "                 ColumnTransformer(remainder=&#x27;passthrough&#x27;,\n",
       "                                   transformers=[(&#x27;onehotencoder&#x27;,\n",
       "                                                  OneHotEncoder(sparse=False),\n",
       "                                                  [&#x27;location&#x27;])])),\n",
       "                (&#x27;standardscaler&#x27;, StandardScaler()), (&#x27;lasso&#x27;, Lasso())])</pre><b>In a Jupyter environment, please rerun this cell to show the HTML representation or trust the notebook. <br />On GitHub, the HTML representation is unable to render, please try loading this page with nbviewer.org.</b></div><div class=\"sk-container\" hidden><div class=\"sk-item sk-dashed-wrapped\"><div class=\"sk-label-container\"><div class=\"sk-label sk-toggleable\"><input class=\"sk-toggleable__control sk-hidden--visually\" id=\"sk-estimator-id-9\" type=\"checkbox\" ><label for=\"sk-estimator-id-9\" class=\"sk-toggleable__label sk-toggleable__label-arrow\">Pipeline</label><div class=\"sk-toggleable__content\"><pre>Pipeline(steps=[(&#x27;columntransformer&#x27;,\n",
       "                 ColumnTransformer(remainder=&#x27;passthrough&#x27;,\n",
       "                                   transformers=[(&#x27;onehotencoder&#x27;,\n",
       "                                                  OneHotEncoder(sparse=False),\n",
       "                                                  [&#x27;location&#x27;])])),\n",
       "                (&#x27;standardscaler&#x27;, StandardScaler()), (&#x27;lasso&#x27;, Lasso())])</pre></div></div></div><div class=\"sk-serial\"><div class=\"sk-item sk-dashed-wrapped\"><div class=\"sk-label-container\"><div class=\"sk-label sk-toggleable\"><input class=\"sk-toggleable__control sk-hidden--visually\" id=\"sk-estimator-id-10\" type=\"checkbox\" ><label for=\"sk-estimator-id-10\" class=\"sk-toggleable__label sk-toggleable__label-arrow\">columntransformer: ColumnTransformer</label><div class=\"sk-toggleable__content\"><pre>ColumnTransformer(remainder=&#x27;passthrough&#x27;,\n",
       "                  transformers=[(&#x27;onehotencoder&#x27;, OneHotEncoder(sparse=False),\n",
       "                                 [&#x27;location&#x27;])])</pre></div></div></div><div class=\"sk-parallel\"><div class=\"sk-parallel-item\"><div class=\"sk-item\"><div class=\"sk-label-container\"><div class=\"sk-label sk-toggleable\"><input class=\"sk-toggleable__control sk-hidden--visually\" id=\"sk-estimator-id-11\" type=\"checkbox\" ><label for=\"sk-estimator-id-11\" class=\"sk-toggleable__label sk-toggleable__label-arrow\">onehotencoder</label><div class=\"sk-toggleable__content\"><pre>[&#x27;location&#x27;]</pre></div></div></div><div class=\"sk-serial\"><div class=\"sk-item\"><div class=\"sk-estimator sk-toggleable\"><input class=\"sk-toggleable__control sk-hidden--visually\" id=\"sk-estimator-id-12\" type=\"checkbox\" ><label for=\"sk-estimator-id-12\" class=\"sk-toggleable__label sk-toggleable__label-arrow\">OneHotEncoder</label><div class=\"sk-toggleable__content\"><pre>OneHotEncoder(sparse=False)</pre></div></div></div></div></div></div><div class=\"sk-parallel-item\"><div class=\"sk-item\"><div class=\"sk-label-container\"><div class=\"sk-label sk-toggleable\"><input class=\"sk-toggleable__control sk-hidden--visually\" id=\"sk-estimator-id-13\" type=\"checkbox\" ><label for=\"sk-estimator-id-13\" class=\"sk-toggleable__label sk-toggleable__label-arrow\">remainder</label><div class=\"sk-toggleable__content\"><pre>[&#x27;total_sqft&#x27;, &#x27;bath&#x27;, &#x27;bhk&#x27;]</pre></div></div></div><div class=\"sk-serial\"><div class=\"sk-item\"><div class=\"sk-estimator sk-toggleable\"><input class=\"sk-toggleable__control sk-hidden--visually\" id=\"sk-estimator-id-14\" type=\"checkbox\" ><label for=\"sk-estimator-id-14\" class=\"sk-toggleable__label sk-toggleable__label-arrow\">passthrough</label><div class=\"sk-toggleable__content\"><pre>passthrough</pre></div></div></div></div></div></div></div></div><div class=\"sk-item\"><div class=\"sk-estimator sk-toggleable\"><input class=\"sk-toggleable__control sk-hidden--visually\" id=\"sk-estimator-id-15\" type=\"checkbox\" ><label for=\"sk-estimator-id-15\" class=\"sk-toggleable__label sk-toggleable__label-arrow\">StandardScaler</label><div class=\"sk-toggleable__content\"><pre>StandardScaler()</pre></div></div></div><div class=\"sk-item\"><div class=\"sk-estimator sk-toggleable\"><input class=\"sk-toggleable__control sk-hidden--visually\" id=\"sk-estimator-id-16\" type=\"checkbox\" ><label for=\"sk-estimator-id-16\" class=\"sk-toggleable__label sk-toggleable__label-arrow\">Lasso</label><div class=\"sk-toggleable__content\"><pre>Lasso()</pre></div></div></div></div></div></div></div>"
      ],
      "text/plain": [
       "Pipeline(steps=[('columntransformer',\n",
       "                 ColumnTransformer(remainder='passthrough',\n",
       "                                   transformers=[('onehotencoder',\n",
       "                                                  OneHotEncoder(sparse=False),\n",
       "                                                  ['location'])])),\n",
       "                ('standardscaler', StandardScaler()), ('lasso', Lasso())])"
      ]
     },
     "execution_count": 69,
     "metadata": {},
     "output_type": "execute_result"
    }
   ],
   "source": [
    "pipe.fit(X_train,y_train)"
   ]
  },
  {
   "cell_type": "code",
   "execution_count": null,
   "id": "ebfe1962",
   "metadata": {
    "execution": {
     "iopub.execute_input": "2024-03-04T16:50:57.175899Z",
     "iopub.status.busy": "2024-03-04T16:50:57.175470Z",
     "iopub.status.idle": "2024-03-04T16:50:57.204945Z",
     "shell.execute_reply": "2024-03-04T16:50:57.203769Z"
    },
    "id": "7-yg2LHtNT1T",
    "outputId": "01bd915b-f578-4e07-b6b1-6ee067c605f0",
    "papermill": {
     "duration": 0.076285,
     "end_time": "2024-03-04T16:50:57.208797",
     "exception": false,
     "start_time": "2024-03-04T16:50:57.132512",
     "status": "completed"
    },
    "tags": []
   },
   "outputs": [
    {
     "data": {
      "text/plain": [
       "0.807562263182884"
      ]
     },
     "execution_count": 70,
     "metadata": {},
     "output_type": "execute_result"
    }
   ],
   "source": [
    "y_pred_lasso = pipe.predict(X_test)\n",
    "r2_score(y_test,y_pred_lasso)"
   ]
  },
  {
   "cell_type": "code",
   "execution_count": null,
   "id": "d423e7d6",
   "metadata": {
    "execution": {
     "iopub.execute_input": "2024-03-04T16:50:57.342451Z",
     "iopub.status.busy": "2024-03-04T16:50:57.341980Z",
     "iopub.status.idle": "2024-03-04T16:50:57.348625Z",
     "shell.execute_reply": "2024-03-04T16:50:57.346815Z"
    },
    "id": "1N2XrVekNjQ2",
    "papermill": {
     "duration": 0.057735,
     "end_time": "2024-03-04T16:50:57.351310",
     "exception": false,
     "start_time": "2024-03-04T16:50:57.293575",
     "status": "completed"
    },
    "tags": []
   },
   "outputs": [],
   "source": [
    "# Applying Ridge :\n",
    "ridge = Ridge()"
   ]
  },
  {
   "cell_type": "code",
   "execution_count": null,
   "id": "86137c9a",
   "metadata": {
    "execution": {
     "iopub.execute_input": "2024-03-04T16:50:57.431040Z",
     "iopub.status.busy": "2024-03-04T16:50:57.430586Z",
     "iopub.status.idle": "2024-03-04T16:50:57.435924Z",
     "shell.execute_reply": "2024-03-04T16:50:57.434631Z"
    },
    "id": "5ZNMFnX7Q7j2",
    "papermill": {
     "duration": 0.049137,
     "end_time": "2024-03-04T16:50:57.439008",
     "exception": false,
     "start_time": "2024-03-04T16:50:57.389871",
     "status": "completed"
    },
    "tags": []
   },
   "outputs": [],
   "source": [
    "pipe = make_pipeline(column_trans,scaler,ridge)"
   ]
  },
  {
   "cell_type": "code",
   "execution_count": null,
   "id": "b4c47941",
   "metadata": {
    "execution": {
     "iopub.execute_input": "2024-03-04T16:50:57.520248Z",
     "iopub.status.busy": "2024-03-04T16:50:57.519088Z",
     "iopub.status.idle": "2024-03-04T16:50:57.713840Z",
     "shell.execute_reply": "2024-03-04T16:50:57.712383Z"
    },
    "id": "VY9Nrv0-RDj7",
    "outputId": "a44a1af7-a71a-49d6-a13f-a35ace484a7c",
    "papermill": {
     "duration": 0.239169,
     "end_time": "2024-03-04T16:50:57.717876",
     "exception": false,
     "start_time": "2024-03-04T16:50:57.478707",
     "status": "completed"
    },
    "tags": []
   },
   "outputs": [
    {
     "data": {
      "text/html": [
       "<style>#sk-container-id-3 {color: black;background-color: white;}#sk-container-id-3 pre{padding: 0;}#sk-container-id-3 div.sk-toggleable {background-color: white;}#sk-container-id-3 label.sk-toggleable__label {cursor: pointer;display: block;width: 100%;margin-bottom: 0;padding: 0.3em;box-sizing: border-box;text-align: center;}#sk-container-id-3 label.sk-toggleable__label-arrow:before {content: \"▸\";float: left;margin-right: 0.25em;color: #696969;}#sk-container-id-3 label.sk-toggleable__label-arrow:hover:before {color: black;}#sk-container-id-3 div.sk-estimator:hover label.sk-toggleable__label-arrow:before {color: black;}#sk-container-id-3 div.sk-toggleable__content {max-height: 0;max-width: 0;overflow: hidden;text-align: left;background-color: #f0f8ff;}#sk-container-id-3 div.sk-toggleable__content pre {margin: 0.2em;color: black;border-radius: 0.25em;background-color: #f0f8ff;}#sk-container-id-3 input.sk-toggleable__control:checked~div.sk-toggleable__content {max-height: 200px;max-width: 100%;overflow: auto;}#sk-container-id-3 input.sk-toggleable__control:checked~label.sk-toggleable__label-arrow:before {content: \"▾\";}#sk-container-id-3 div.sk-estimator input.sk-toggleable__control:checked~label.sk-toggleable__label {background-color: #d4ebff;}#sk-container-id-3 div.sk-label input.sk-toggleable__control:checked~label.sk-toggleable__label {background-color: #d4ebff;}#sk-container-id-3 input.sk-hidden--visually {border: 0;clip: rect(1px 1px 1px 1px);clip: rect(1px, 1px, 1px, 1px);height: 1px;margin: -1px;overflow: hidden;padding: 0;position: absolute;width: 1px;}#sk-container-id-3 div.sk-estimator {font-family: monospace;background-color: #f0f8ff;border: 1px dotted black;border-radius: 0.25em;box-sizing: border-box;margin-bottom: 0.5em;}#sk-container-id-3 div.sk-estimator:hover {background-color: #d4ebff;}#sk-container-id-3 div.sk-parallel-item::after {content: \"\";width: 100%;border-bottom: 1px solid gray;flex-grow: 1;}#sk-container-id-3 div.sk-label:hover label.sk-toggleable__label {background-color: #d4ebff;}#sk-container-id-3 div.sk-serial::before {content: \"\";position: absolute;border-left: 1px solid gray;box-sizing: border-box;top: 0;bottom: 0;left: 50%;z-index: 0;}#sk-container-id-3 div.sk-serial {display: flex;flex-direction: column;align-items: center;background-color: white;padding-right: 0.2em;padding-left: 0.2em;position: relative;}#sk-container-id-3 div.sk-item {position: relative;z-index: 1;}#sk-container-id-3 div.sk-parallel {display: flex;align-items: stretch;justify-content: center;background-color: white;position: relative;}#sk-container-id-3 div.sk-item::before, #sk-container-id-3 div.sk-parallel-item::before {content: \"\";position: absolute;border-left: 1px solid gray;box-sizing: border-box;top: 0;bottom: 0;left: 50%;z-index: -1;}#sk-container-id-3 div.sk-parallel-item {display: flex;flex-direction: column;z-index: 1;position: relative;background-color: white;}#sk-container-id-3 div.sk-parallel-item:first-child::after {align-self: flex-end;width: 50%;}#sk-container-id-3 div.sk-parallel-item:last-child::after {align-self: flex-start;width: 50%;}#sk-container-id-3 div.sk-parallel-item:only-child::after {width: 0;}#sk-container-id-3 div.sk-dashed-wrapped {border: 1px dashed gray;margin: 0 0.4em 0.5em 0.4em;box-sizing: border-box;padding-bottom: 0.4em;background-color: white;}#sk-container-id-3 div.sk-label label {font-family: monospace;font-weight: bold;display: inline-block;line-height: 1.2em;}#sk-container-id-3 div.sk-label-container {text-align: center;}#sk-container-id-3 div.sk-container {/* jupyter's `normalize.less` sets `[hidden] { display: none; }` but bootstrap.min.css set `[hidden] { display: none !important; }` so we also need the `!important` here to be able to override the default hidden behavior on the sphinx rendered scikit-learn.org. See: https://github.com/scikit-learn/scikit-learn/issues/21755 */display: inline-block !important;position: relative;}#sk-container-id-3 div.sk-text-repr-fallback {display: none;}</style><div id=\"sk-container-id-3\" class=\"sk-top-container\"><div class=\"sk-text-repr-fallback\"><pre>Pipeline(steps=[(&#x27;columntransformer&#x27;,\n",
       "                 ColumnTransformer(remainder=&#x27;passthrough&#x27;,\n",
       "                                   transformers=[(&#x27;onehotencoder&#x27;,\n",
       "                                                  OneHotEncoder(sparse=False),\n",
       "                                                  [&#x27;location&#x27;])])),\n",
       "                (&#x27;standardscaler&#x27;, StandardScaler()), (&#x27;ridge&#x27;, Ridge())])</pre><b>In a Jupyter environment, please rerun this cell to show the HTML representation or trust the notebook. <br />On GitHub, the HTML representation is unable to render, please try loading this page with nbviewer.org.</b></div><div class=\"sk-container\" hidden><div class=\"sk-item sk-dashed-wrapped\"><div class=\"sk-label-container\"><div class=\"sk-label sk-toggleable\"><input class=\"sk-toggleable__control sk-hidden--visually\" id=\"sk-estimator-id-17\" type=\"checkbox\" ><label for=\"sk-estimator-id-17\" class=\"sk-toggleable__label sk-toggleable__label-arrow\">Pipeline</label><div class=\"sk-toggleable__content\"><pre>Pipeline(steps=[(&#x27;columntransformer&#x27;,\n",
       "                 ColumnTransformer(remainder=&#x27;passthrough&#x27;,\n",
       "                                   transformers=[(&#x27;onehotencoder&#x27;,\n",
       "                                                  OneHotEncoder(sparse=False),\n",
       "                                                  [&#x27;location&#x27;])])),\n",
       "                (&#x27;standardscaler&#x27;, StandardScaler()), (&#x27;ridge&#x27;, Ridge())])</pre></div></div></div><div class=\"sk-serial\"><div class=\"sk-item sk-dashed-wrapped\"><div class=\"sk-label-container\"><div class=\"sk-label sk-toggleable\"><input class=\"sk-toggleable__control sk-hidden--visually\" id=\"sk-estimator-id-18\" type=\"checkbox\" ><label for=\"sk-estimator-id-18\" class=\"sk-toggleable__label sk-toggleable__label-arrow\">columntransformer: ColumnTransformer</label><div class=\"sk-toggleable__content\"><pre>ColumnTransformer(remainder=&#x27;passthrough&#x27;,\n",
       "                  transformers=[(&#x27;onehotencoder&#x27;, OneHotEncoder(sparse=False),\n",
       "                                 [&#x27;location&#x27;])])</pre></div></div></div><div class=\"sk-parallel\"><div class=\"sk-parallel-item\"><div class=\"sk-item\"><div class=\"sk-label-container\"><div class=\"sk-label sk-toggleable\"><input class=\"sk-toggleable__control sk-hidden--visually\" id=\"sk-estimator-id-19\" type=\"checkbox\" ><label for=\"sk-estimator-id-19\" class=\"sk-toggleable__label sk-toggleable__label-arrow\">onehotencoder</label><div class=\"sk-toggleable__content\"><pre>[&#x27;location&#x27;]</pre></div></div></div><div class=\"sk-serial\"><div class=\"sk-item\"><div class=\"sk-estimator sk-toggleable\"><input class=\"sk-toggleable__control sk-hidden--visually\" id=\"sk-estimator-id-20\" type=\"checkbox\" ><label for=\"sk-estimator-id-20\" class=\"sk-toggleable__label sk-toggleable__label-arrow\">OneHotEncoder</label><div class=\"sk-toggleable__content\"><pre>OneHotEncoder(sparse=False)</pre></div></div></div></div></div></div><div class=\"sk-parallel-item\"><div class=\"sk-item\"><div class=\"sk-label-container\"><div class=\"sk-label sk-toggleable\"><input class=\"sk-toggleable__control sk-hidden--visually\" id=\"sk-estimator-id-21\" type=\"checkbox\" ><label for=\"sk-estimator-id-21\" class=\"sk-toggleable__label sk-toggleable__label-arrow\">remainder</label><div class=\"sk-toggleable__content\"><pre>[&#x27;total_sqft&#x27;, &#x27;bath&#x27;, &#x27;bhk&#x27;]</pre></div></div></div><div class=\"sk-serial\"><div class=\"sk-item\"><div class=\"sk-estimator sk-toggleable\"><input class=\"sk-toggleable__control sk-hidden--visually\" id=\"sk-estimator-id-22\" type=\"checkbox\" ><label for=\"sk-estimator-id-22\" class=\"sk-toggleable__label sk-toggleable__label-arrow\">passthrough</label><div class=\"sk-toggleable__content\"><pre>passthrough</pre></div></div></div></div></div></div></div></div><div class=\"sk-item\"><div class=\"sk-estimator sk-toggleable\"><input class=\"sk-toggleable__control sk-hidden--visually\" id=\"sk-estimator-id-23\" type=\"checkbox\" ><label for=\"sk-estimator-id-23\" class=\"sk-toggleable__label sk-toggleable__label-arrow\">StandardScaler</label><div class=\"sk-toggleable__content\"><pre>StandardScaler()</pre></div></div></div><div class=\"sk-item\"><div class=\"sk-estimator sk-toggleable\"><input class=\"sk-toggleable__control sk-hidden--visually\" id=\"sk-estimator-id-24\" type=\"checkbox\" ><label for=\"sk-estimator-id-24\" class=\"sk-toggleable__label sk-toggleable__label-arrow\">Ridge</label><div class=\"sk-toggleable__content\"><pre>Ridge()</pre></div></div></div></div></div></div></div>"
      ],
      "text/plain": [
       "Pipeline(steps=[('columntransformer',\n",
       "                 ColumnTransformer(remainder='passthrough',\n",
       "                                   transformers=[('onehotencoder',\n",
       "                                                  OneHotEncoder(sparse=False),\n",
       "                                                  ['location'])])),\n",
       "                ('standardscaler', StandardScaler()), ('ridge', Ridge())])"
      ]
     },
     "execution_count": 73,
     "metadata": {},
     "output_type": "execute_result"
    }
   ],
   "source": [
    "pipe.fit(X_train,y_train)"
   ]
  },
  {
   "cell_type": "code",
   "execution_count": null,
   "id": "867badf6",
   "metadata": {
    "execution": {
     "iopub.execute_input": "2024-03-04T16:50:57.814027Z",
     "iopub.status.busy": "2024-03-04T16:50:57.813608Z",
     "iopub.status.idle": "2024-03-04T16:50:57.844495Z",
     "shell.execute_reply": "2024-03-04T16:50:57.841773Z"
    },
    "id": "j6aDi7qJWMoZ",
    "outputId": "0b44c8a2-762e-4f19-e815-8fad80a8f236",
    "papermill": {
     "duration": 0.075411,
     "end_time": "2024-03-04T16:50:57.849504",
     "exception": false,
     "start_time": "2024-03-04T16:50:57.774093",
     "status": "completed"
    },
    "tags": []
   },
   "outputs": [
    {
     "data": {
      "text/plain": [
       "0.8212008472309718"
      ]
     },
     "execution_count": 74,
     "metadata": {},
     "output_type": "execute_result"
    }
   ],
   "source": [
    "y_pred_ridge = pipe.predict(X_test)\n",
    "r2_score(y_test,y_pred_ridge)"
   ]
  },
  {
   "cell_type": "code",
   "execution_count": null,
   "id": "752cd4db",
   "metadata": {
    "execution": {
     "iopub.execute_input": "2024-03-04T16:50:57.987606Z",
     "iopub.status.busy": "2024-03-04T16:50:57.986365Z",
     "iopub.status.idle": "2024-03-04T16:50:57.999416Z",
     "shell.execute_reply": "2024-03-04T16:50:57.998160Z"
    },
    "id": "DStNvPV-Wa85",
    "outputId": "9e905e2c-c4c5-445c-f3d2-34167707c7ce",
    "papermill": {
     "duration": 0.069838,
     "end_time": "2024-03-04T16:50:58.001838",
     "exception": false,
     "start_time": "2024-03-04T16:50:57.932000",
     "status": "completed"
    },
    "tags": []
   },
   "outputs": [
    {
     "name": "stdout",
     "output_type": "stream",
     "text": [
      "No Regularization :  0.8210972034575345\n",
      "Lasso Regularization :  0.807562263182884\n",
      "Ridge Regularization :  0.8212008472309718\n"
     ]
    }
   ],
   "source": [
    "# Comparing the best models :\n",
    "print(\"No Regularization : \",r2_score(y_test,y_pred))\n",
    "print(\"Lasso Regularization : \",r2_score(y_test,y_pred_lasso))\n",
    "print(\"Ridge Regularization : \",r2_score(y_test,y_pred_ridge))"
   ]
  },
  {
   "cell_type": "code",
   "execution_count": null,
   "id": "742e8244",
   "metadata": {
    "execution": {
     "iopub.execute_input": "2024-03-04T16:50:58.086559Z",
     "iopub.status.busy": "2024-03-04T16:50:58.085197Z",
     "iopub.status.idle": "2024-03-04T16:50:58.090664Z",
     "shell.execute_reply": "2024-03-04T16:50:58.089697Z"
    },
    "id": "JhQznyqNoBIQ",
    "papermill": {
     "duration": 0.048945,
     "end_time": "2024-03-04T16:50:58.093320",
     "exception": false,
     "start_time": "2024-03-04T16:50:58.044375",
     "status": "completed"
    },
    "tags": []
   },
   "outputs": [],
   "source": [
    "# Making a Pickle File :\n",
    "import pickle"
   ]
  },
  {
   "cell_type": "code",
   "execution_count": null,
   "id": "49c706d3",
   "metadata": {
    "execution": {
     "iopub.execute_input": "2024-03-04T16:50:58.176558Z",
     "iopub.status.busy": "2024-03-04T16:50:58.175249Z",
     "iopub.status.idle": "2024-03-04T16:50:58.181830Z",
     "shell.execute_reply": "2024-03-04T16:50:58.180693Z"
    },
    "id": "XL0vAULB14Em",
    "papermill": {
     "duration": 0.051915,
     "end_time": "2024-03-04T16:50:58.184150",
     "exception": false,
     "start_time": "2024-03-04T16:50:58.132235",
     "status": "completed"
    },
    "tags": []
   },
   "outputs": [],
   "source": [
    "pickle.dump(pipe,open('RidgeModel.pkl','wb'))"
   ]
  },
  {
   "cell_type": "code",
   "execution_count": null,
   "id": "1d6d84b5",
   "metadata": {
    "id": "QhZEOI3Z2kXQ",
    "papermill": {
     "duration": 0.042015,
     "end_time": "2024-03-04T16:50:58.265872",
     "exception": false,
     "start_time": "2024-03-04T16:50:58.223857",
     "status": "completed"
    },
    "tags": []
   },
   "outputs": [],
   "source": []
  },
  {
   "cell_type": "code",
   "execution_count": null,
   "id": "da721ac0",
   "metadata": {
    "papermill": {
     "duration": 0.038133,
     "end_time": "2024-03-04T16:50:58.342859",
     "exception": false,
     "start_time": "2024-03-04T16:50:58.304726",
     "status": "completed"
    },
    "tags": []
   },
   "outputs": [],
   "source": []
  }
 ],
 "metadata": {
  "colab": {
   "collapsed_sections": [
    "G6HoLY29Snea",
    "OULDsgyTTBxY",
    "Mx6v6IHeHfuV"
   ],
   "provenance": []
  },
  "kaggle": {
   "accelerator": "none",
   "dataSources": [
    {
     "datasetId": 20710,
     "sourceId": 26737,
     "sourceType": "datasetVersion"
    }
   ],
   "dockerImageVersionId": 30664,
   "isGpuEnabled": false,
   "isInternetEnabled": true,
   "language": "python",
   "sourceType": "notebook"
  },
  "kernelspec": {
   "display_name": "Python 3",
   "language": "python",
   "name": "python3"
  },
  "language_info": {
   "codemirror_mode": {
    "name": "ipython",
    "version": 3
   },
   "file_extension": ".py",
   "mimetype": "text/x-python",
   "name": "python",
   "nbconvert_exporter": "python",
   "pygments_lexer": "ipython3",
   "version": "3.11.7"
  },
  "papermill": {
   "default_parameters": {},
   "duration": 22.307618,
   "end_time": "2024-03-04T16:50:59.305089",
   "environment_variables": {},
   "exception": null,
   "input_path": "__notebook__.ipynb",
   "output_path": "__notebook__.ipynb",
   "parameters": {},
   "start_time": "2024-03-04T16:50:36.997471",
   "version": "2.5.0"
  }
 },
 "nbformat": 4,
 "nbformat_minor": 5
}
